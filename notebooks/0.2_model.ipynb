{
 "cells": [
  {
   "cell_type": "code",
   "execution_count": 1,
   "metadata": {},
   "outputs": [],
   "source": [
    "import pandas as pd\n",
    "import numpy as np\n",
    "import warnings\n",
    "import matplotlib.pyplot as plt\n",
    "import seaborn as sns\n",
    "import plotly.express as px\n",
    "from IPython.display import display\n",
    "\n",
    "from sklearn.linear_model import Lasso, LinearRegression\n",
    "from sklearn.metrics import mean_absolute_error, r2_score\n",
    "from sklearn.preprocessing import StandardScaler\n",
    "from sklearn.model_selection import train_test_split, cross_val_score, KFold, GridSearchCV\n",
    "from sklearn.compose import make_column_transformer\n",
    "from sklearn.compose import make_column_selector\n",
    "from sklearn.linear_model import ElasticNet\n",
    "from sklearn.tree import DecisionTreeRegressor\n",
    "from sklearn.ensemble import GradientBoostingRegressor, RandomForestRegressor\n",
    "\n",
    "warnings.filterwarnings('ignore')#to filter all the warnings\n",
    "pd.set_option('float_format', '{:.4f}'.format)# to keep the float values short"
   ]
  },
  {
   "cell_type": "markdown",
   "metadata": {},
   "source": [
    "## Carga del dataset"
   ]
  },
  {
   "cell_type": "code",
   "execution_count": 2,
   "metadata": {},
   "outputs": [
    {
     "name": "stdout",
     "output_type": "stream",
     "text": [
      "<class 'pandas.core.frame.DataFrame'>\n",
      "RangeIndex: 40949 entries, 0 to 40948\n",
      "Data columns (total 12 columns):\n",
      " #   Column               Non-Null Count  Dtype\n",
      "---  ------               --------------  -----\n",
      " 0   category_id          40949 non-null  int64\n",
      " 1   views                40949 non-null  int64\n",
      " 2   likes                40949 non-null  int64\n",
      " 3   dislikes             40949 non-null  int64\n",
      " 4   comment_count        40949 non-null  int64\n",
      " 5   total_trending_days  40949 non-null  int64\n",
      " 6   published_year       40949 non-null  int64\n",
      " 7   published_month      40949 non-null  int64\n",
      " 8   published_week       40949 non-null  int64\n",
      " 9   published_day        40949 non-null  int64\n",
      " 10  published_hour       40949 non-null  int64\n",
      " 11  published_minute     40949 non-null  int64\n",
      "dtypes: int64(12)\n",
      "memory usage: 3.7 MB\n"
     ]
    }
   ],
   "source": [
    "df = pd.read_csv('../data/model_data/youtube_num.csv')\n",
    "df.info()"
   ]
  },
  {
   "cell_type": "code",
   "execution_count": 3,
   "metadata": {},
   "outputs": [
    {
     "data": {
      "text/html": [
       "<div>\n",
       "<style scoped>\n",
       "    .dataframe tbody tr th:only-of-type {\n",
       "        vertical-align: middle;\n",
       "    }\n",
       "\n",
       "    .dataframe tbody tr th {\n",
       "        vertical-align: top;\n",
       "    }\n",
       "\n",
       "    .dataframe thead th {\n",
       "        text-align: right;\n",
       "    }\n",
       "</style>\n",
       "<table border=\"1\" class=\"dataframe\">\n",
       "  <thead>\n",
       "    <tr style=\"text-align: right;\">\n",
       "      <th></th>\n",
       "      <th>category_id</th>\n",
       "      <th>views</th>\n",
       "      <th>likes</th>\n",
       "      <th>dislikes</th>\n",
       "      <th>comment_count</th>\n",
       "      <th>total_trending_days</th>\n",
       "      <th>published_year</th>\n",
       "      <th>published_month</th>\n",
       "      <th>published_week</th>\n",
       "      <th>published_day</th>\n",
       "      <th>published_hour</th>\n",
       "      <th>published_minute</th>\n",
       "    </tr>\n",
       "  </thead>\n",
       "  <tbody>\n",
       "    <tr>\n",
       "      <th>0</th>\n",
       "      <td>24</td>\n",
       "      <td>475965</td>\n",
       "      <td>6531</td>\n",
       "      <td>172</td>\n",
       "      <td>271</td>\n",
       "      <td>6</td>\n",
       "      <td>2018</td>\n",
       "      <td>6</td>\n",
       "      <td>23</td>\n",
       "      <td>4</td>\n",
       "      <td>13</td>\n",
       "      <td>0</td>\n",
       "    </tr>\n",
       "    <tr>\n",
       "      <th>1</th>\n",
       "      <td>24</td>\n",
       "      <td>605506</td>\n",
       "      <td>7848</td>\n",
       "      <td>232</td>\n",
       "      <td>354</td>\n",
       "      <td>6</td>\n",
       "      <td>2018</td>\n",
       "      <td>6</td>\n",
       "      <td>23</td>\n",
       "      <td>4</td>\n",
       "      <td>13</td>\n",
       "      <td>0</td>\n",
       "    </tr>\n",
       "    <tr>\n",
       "      <th>2</th>\n",
       "      <td>24</td>\n",
       "      <td>705986</td>\n",
       "      <td>8930</td>\n",
       "      <td>277</td>\n",
       "      <td>371</td>\n",
       "      <td>6</td>\n",
       "      <td>2018</td>\n",
       "      <td>6</td>\n",
       "      <td>23</td>\n",
       "      <td>4</td>\n",
       "      <td>13</td>\n",
       "      <td>0</td>\n",
       "    </tr>\n",
       "  </tbody>\n",
       "</table>\n",
       "</div>"
      ],
      "text/plain": [
       "   category_id   views  likes  dislikes  comment_count  total_trending_days  \\\n",
       "0           24  475965   6531       172            271                    6   \n",
       "1           24  605506   7848       232            354                    6   \n",
       "2           24  705986   8930       277            371                    6   \n",
       "\n",
       "   published_year  published_month  published_week  published_day  \\\n",
       "0            2018                6              23              4   \n",
       "1            2018                6              23              4   \n",
       "2            2018                6              23              4   \n",
       "\n",
       "   published_hour  published_minute  \n",
       "0              13                 0  \n",
       "1              13                 0  \n",
       "2              13                 0  "
      ]
     },
     "execution_count": 3,
     "metadata": {},
     "output_type": "execute_result"
    }
   ],
   "source": [
    "df.head(3)"
   ]
  },
  {
   "cell_type": "markdown",
   "metadata": {},
   "source": [
    "### ¿Es posible predecir cuantos likes o visitas tendrá un video? Si es así, crea un modelo que lo compruebe.\n",
    "\n",
    "* Columna objetivo `(target)` --> Views"
   ]
  },
  {
   "cell_type": "code",
   "execution_count": 36,
   "metadata": {},
   "outputs": [],
   "source": [
    "ct = make_column_transformer(\n",
    "    (StandardScaler(),\n",
    "    make_column_selector(dtype_include=np.number))\n",
    ")"
   ]
  },
  {
   "cell_type": "code",
   "execution_count": 38,
   "metadata": {},
   "outputs": [],
   "source": [
    "X = df.copy()\n",
    "y = X.pop('views')"
   ]
  },
  {
   "cell_type": "code",
   "execution_count": 39,
   "metadata": {},
   "outputs": [],
   "source": [
    "X = ct.fit_transform(X)"
   ]
  },
  {
   "cell_type": "code",
   "execution_count": 33,
   "metadata": {},
   "outputs": [
    {
     "data": {
      "text/plain": [
       "count       40949.0000\n",
       "mean      2360784.6383\n",
       "std       7394113.7597\n",
       "min           549.0000\n",
       "25%        242329.0000\n",
       "50%        681861.0000\n",
       "75%       1823157.0000\n",
       "max     225211923.0000\n",
       "Name: views, dtype: float64"
      ]
     },
     "execution_count": 33,
     "metadata": {},
     "output_type": "execute_result"
    }
   ],
   "source": [
    "y.describe()"
   ]
  },
  {
   "cell_type": "code",
   "execution_count": 7,
   "metadata": {},
   "outputs": [
    {
     "data": {
      "text/plain": [
       "dtype('int64')"
      ]
     },
     "execution_count": 7,
     "metadata": {},
     "output_type": "execute_result"
    }
   ],
   "source": [
    "y.dtypes"
   ]
  },
  {
   "cell_type": "markdown",
   "metadata": {},
   "source": [
    "## Realizamos una primera prueba"
   ]
  },
  {
   "cell_type": "code",
   "execution_count": 41,
   "metadata": {},
   "outputs": [],
   "source": [
    "X_train, X_test, y_train, y_test = train_test_split(X, y, test_size=0.3, random_state=42)"
   ]
  },
  {
   "cell_type": "code",
   "execution_count": 42,
   "metadata": {},
   "outputs": [],
   "source": [
    "model_linear = LinearRegression()"
   ]
  },
  {
   "cell_type": "code",
   "execution_count": 43,
   "metadata": {},
   "outputs": [
    {
     "data": {
      "text/plain": [
       "0.7970677134378407"
      ]
     },
     "execution_count": 43,
     "metadata": {},
     "output_type": "execute_result"
    }
   ],
   "source": [
    "model_linear.fit(X_train, y_train)\n",
    "model_linear.score(X_test, y_test)"
   ]
  },
  {
   "cell_type": "markdown",
   "metadata": {},
   "source": [
    "#### Metrics\n",
    "\n",
    "Coefficient Determination"
   ]
  },
  {
   "cell_type": "code",
   "execution_count": 51,
   "metadata": {},
   "outputs": [
    {
     "name": "stdout",
     "output_type": "stream",
     "text": [
      "Coefficient of determination: 0.80\n"
     ]
    }
   ],
   "source": [
    "y_predict = model_linear.predict(X_test)\n",
    "r2_score = r2_score(y_test, y_predict)\n",
    "print(\"Coefficient of determination: %.2f\" % r2_score)"
   ]
  },
  {
   "cell_type": "code",
   "execution_count": 46,
   "metadata": {},
   "outputs": [],
   "source": [
    "df_result = pd.DataFrame()\n",
    "df_result['y_true'] = y_test\n",
    "df_result['y_predict'] = y_predict"
   ]
  },
  {
   "cell_type": "code",
   "execution_count": 47,
   "metadata": {},
   "outputs": [
    {
     "data": {
      "text/html": [
       "<div>\n",
       "<style scoped>\n",
       "    .dataframe tbody tr th:only-of-type {\n",
       "        vertical-align: middle;\n",
       "    }\n",
       "\n",
       "    .dataframe tbody tr th {\n",
       "        vertical-align: top;\n",
       "    }\n",
       "\n",
       "    .dataframe thead th {\n",
       "        text-align: right;\n",
       "    }\n",
       "</style>\n",
       "<table border=\"1\" class=\"dataframe\">\n",
       "  <thead>\n",
       "    <tr style=\"text-align: right;\">\n",
       "      <th></th>\n",
       "      <th>y_true</th>\n",
       "      <th>y_predict</th>\n",
       "    </tr>\n",
       "  </thead>\n",
       "  <tbody>\n",
       "    <tr>\n",
       "      <th>252</th>\n",
       "      <td>14107720</td>\n",
       "      <td>10804167.6783</td>\n",
       "    </tr>\n",
       "    <tr>\n",
       "      <th>25111</th>\n",
       "      <td>142139</td>\n",
       "      <td>476389.5403</td>\n",
       "    </tr>\n",
       "    <tr>\n",
       "      <th>29791</th>\n",
       "      <td>219160</td>\n",
       "      <td>208687.6845</td>\n",
       "    </tr>\n",
       "    <tr>\n",
       "      <th>17639</th>\n",
       "      <td>392117</td>\n",
       "      <td>753919.8294</td>\n",
       "    </tr>\n",
       "    <tr>\n",
       "      <th>9937</th>\n",
       "      <td>2232546</td>\n",
       "      <td>2194022.4502</td>\n",
       "    </tr>\n",
       "    <tr>\n",
       "      <th>6225</th>\n",
       "      <td>24249</td>\n",
       "      <td>-600752.7399</td>\n",
       "    </tr>\n",
       "    <tr>\n",
       "      <th>353</th>\n",
       "      <td>2422729</td>\n",
       "      <td>7085996.8733</td>\n",
       "    </tr>\n",
       "    <tr>\n",
       "      <th>3758</th>\n",
       "      <td>376062</td>\n",
       "      <td>258153.9444</td>\n",
       "    </tr>\n",
       "    <tr>\n",
       "      <th>17690</th>\n",
       "      <td>8534145</td>\n",
       "      <td>4531383.1386</td>\n",
       "    </tr>\n",
       "    <tr>\n",
       "      <th>16345</th>\n",
       "      <td>24624</td>\n",
       "      <td>-518812.4777</td>\n",
       "    </tr>\n",
       "  </tbody>\n",
       "</table>\n",
       "</div>"
      ],
      "text/plain": [
       "         y_true     y_predict\n",
       "252    14107720 10804167.6783\n",
       "25111    142139   476389.5403\n",
       "29791    219160   208687.6845\n",
       "17639    392117   753919.8294\n",
       "9937    2232546  2194022.4502\n",
       "6225      24249  -600752.7399\n",
       "353     2422729  7085996.8733\n",
       "3758     376062   258153.9444\n",
       "17690   8534145  4531383.1386\n",
       "16345     24624  -518812.4777"
      ]
     },
     "execution_count": 47,
     "metadata": {},
     "output_type": "execute_result"
    }
   ],
   "source": [
    "df_result.sample(10)"
   ]
  },
  {
   "cell_type": "markdown",
   "metadata": {},
   "source": [
    "## Probemos distintos modelos y seleccionemos el mejor"
   ]
  },
  {
   "cell_type": "code",
   "execution_count": 55,
   "metadata": {},
   "outputs": [
    {
     "name": "stdout",
     "output_type": "stream",
     "text": [
      "Lasso() with mad= -1251181.3493892644\n",
      "ElasticNet() with mad= -1436958.5454328603\n",
      "DecisionTreeRegressor() with mad= -361916.9140745744\n",
      "GradientBoostingRegressor with mad= -802967.3440349827\n",
      "LinearRegression() with mad= -1252355.3621205122\n",
      "RandomForestRegressor() with mad= -293140.72074019857\n",
      "***********************************************\n",
      "Best Regressor is... ElasticNet()\n",
      "**********************\n",
      "With MAD Score -1436958.5454328603\n"
     ]
    }
   ],
   "source": [
    "minMAD = 10000000\n",
    "nfolds = 3\n",
    "bestREG = ''\n",
    "\n",
    "regs = [Lasso(), ElasticNet(), DecisionTreeRegressor(), GradientBoostingRegressor(), LinearRegression(),\n",
    "        RandomForestRegressor()]\n",
    "\n",
    "for reg in regs:\n",
    "    kf = KFold(n_splits=nfolds,random_state=0,shuffle=True)\n",
    "    mad = cross_val_score(reg, X, y,\\\n",
    "             cv=kf,scoring='neg_mean_absolute_error').mean()\n",
    "    # need the lowest scoring for mad\n",
    "    print (str(reg)[:25] + ' with mad= ' + str(mad) )\n",
    "    if mad < minMAD:\n",
    "        minMAD = mad\n",
    "        bestREG = reg\n",
    "        \n",
    "print('***********************************************')\n",
    "print ('Best Regressor is... ' + str(bestREG)[:25] )\n",
    "print('**********************')\n",
    "print ('With MAD Score ' + str(minMAD))"
   ]
  },
  {
   "cell_type": "markdown",
   "metadata": {},
   "source": [
    "El mejor modelo para nuestro set de datos es `ElasticNet` así que podremos 'tunearlo' a continuacion"
   ]
  },
  {
   "cell_type": "code",
   "execution_count": 56,
   "metadata": {},
   "outputs": [],
   "source": [
    "parametersGrid = {\"max_iter\": [1, 5, 10],\n",
    "                    \"alpha\": [0.0001, 0.001, 0.01, 0.1, 1, 10, 100],\n",
    "                    \"l1_ratio\": np.arange(0.0, 1.0, 0.1)}\n",
    "\n",
    "model_eNet = ElasticNet()\n",
    "grid = GridSearchCV(model_eNet, parametersGrid, scoring='r2', cv=10)\n",
    "grid.fit(X_train, y_train)\n",
    "Y_pred = grid.predict(X_test)"
   ]
  },
  {
   "cell_type": "code",
   "execution_count": 60,
   "metadata": {},
   "outputs": [
    {
     "data": {
      "text/plain": [
       "0.7967743294716628"
      ]
     },
     "execution_count": 60,
     "metadata": {},
     "output_type": "execute_result"
    }
   ],
   "source": [
    "grid.score(X_test, y_test)"
   ]
  },
  {
   "cell_type": "code",
   "execution_count": 57,
   "metadata": {},
   "outputs": [],
   "source": [
    "df_result_tun = pd.DataFrame()\n",
    "df_result_tun['y_true'] = y_test\n",
    "df_result_tun['y_predict'] = Y_pred"
   ]
  },
  {
   "cell_type": "code",
   "execution_count": 58,
   "metadata": {},
   "outputs": [
    {
     "data": {
      "text/html": [
       "<div>\n",
       "<style scoped>\n",
       "    .dataframe tbody tr th:only-of-type {\n",
       "        vertical-align: middle;\n",
       "    }\n",
       "\n",
       "    .dataframe tbody tr th {\n",
       "        vertical-align: top;\n",
       "    }\n",
       "\n",
       "    .dataframe thead th {\n",
       "        text-align: right;\n",
       "    }\n",
       "</style>\n",
       "<table border=\"1\" class=\"dataframe\">\n",
       "  <thead>\n",
       "    <tr style=\"text-align: right;\">\n",
       "      <th></th>\n",
       "      <th>y_true</th>\n",
       "      <th>y_predict</th>\n",
       "    </tr>\n",
       "  </thead>\n",
       "  <tbody>\n",
       "    <tr>\n",
       "      <th>16398</th>\n",
       "      <td>1420018</td>\n",
       "      <td>2965866.0893</td>\n",
       "    </tr>\n",
       "    <tr>\n",
       "      <th>19384</th>\n",
       "      <td>328056</td>\n",
       "      <td>609972.8619</td>\n",
       "    </tr>\n",
       "    <tr>\n",
       "      <th>5528</th>\n",
       "      <td>3174</td>\n",
       "      <td>-40527.9112</td>\n",
       "    </tr>\n",
       "    <tr>\n",
       "      <th>40126</th>\n",
       "      <td>608431</td>\n",
       "      <td>857850.1088</td>\n",
       "    </tr>\n",
       "    <tr>\n",
       "      <th>7901</th>\n",
       "      <td>344358</td>\n",
       "      <td>186994.3869</td>\n",
       "    </tr>\n",
       "  </tbody>\n",
       "</table>\n",
       "</div>"
      ],
      "text/plain": [
       "        y_true    y_predict\n",
       "16398  1420018 2965866.0893\n",
       "19384   328056  609972.8619\n",
       "5528      3174  -40527.9112\n",
       "40126   608431  857850.1088\n",
       "7901    344358  186994.3869"
      ]
     },
     "execution_count": 58,
     "metadata": {},
     "output_type": "execute_result"
    }
   ],
   "source": [
    "df_result_tun.sample(5)"
   ]
  },
  {
   "cell_type": "code",
   "execution_count": 59,
   "metadata": {},
   "outputs": [
    {
     "name": "stdout",
     "output_type": "stream",
     "text": [
      "Coefficient of determination: 0.80\n"
     ]
    }
   ],
   "source": [
    "r2_score = r2_score(y_test, Y_pred)\n",
    "print(\"Coefficient of determination: %.2f\" % r2_score)"
   ]
  }
 ],
 "metadata": {
  "interpreter": {
   "hash": "7eee29653e88b609714f9afda52040657fe2540735c19fa758d54683dd20314e"
  },
  "kernelspec": {
   "display_name": "Python 3.9.7 ('cookiecutter-project')",
   "language": "python",
   "name": "python3"
  },
  "language_info": {
   "codemirror_mode": {
    "name": "ipython",
    "version": 3
   },
   "file_extension": ".py",
   "mimetype": "text/x-python",
   "name": "python",
   "nbconvert_exporter": "python",
   "pygments_lexer": "ipython3",
   "version": "3.9.7"
  },
  "orig_nbformat": 4
 },
 "nbformat": 4,
 "nbformat_minor": 2
}
