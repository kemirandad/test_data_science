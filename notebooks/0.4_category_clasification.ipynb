{
 "cells": [
  {
   "cell_type": "code",
   "execution_count": 109,
   "metadata": {},
   "outputs": [],
   "source": [
    "from sklearn.model_selection import train_test_split\n",
    "\n",
    "from sklearn.feature_extraction.text import CountVectorizer\n",
    "from sklearn.feature_extraction.text import TfidfVectorizer\n",
    "from sklearn.metrics import classification_report\n",
    "\n",
    "from nltk.stem import PorterStemmer\n",
    "from wordcloud import STOPWORDS\n",
    "\n",
    "from sklearn.ensemble import RandomForestClassifier\n",
    "\n",
    "import pandas as pd\n",
    "import numpy as np\n",
    "import warnings\n",
    "from IPython.display import display\n",
    "\n",
    "warnings.filterwarnings('ignore')#to filter all the warnings\n",
    "import seaborn as sns\n",
    "pd.set_option('float_format', '{:.4f}'.format)# to keep the float values short\n",
    "\n",
    "import matplotlib.pyplot as plt\n",
    "%matplotlib inline"
   ]
  },
  {
   "cell_type": "markdown",
   "metadata": {},
   "source": []
  },
  {
   "cell_type": "code",
   "execution_count": 6,
   "metadata": {},
   "outputs": [
    {
     "data": {
      "text/html": [
       "<div>\n",
       "<style scoped>\n",
       "    .dataframe tbody tr th:only-of-type {\n",
       "        vertical-align: middle;\n",
       "    }\n",
       "\n",
       "    .dataframe tbody tr th {\n",
       "        vertical-align: top;\n",
       "    }\n",
       "\n",
       "    .dataframe thead th {\n",
       "        text-align: right;\n",
       "    }\n",
       "</style>\n",
       "<table border=\"1\" class=\"dataframe\">\n",
       "  <thead>\n",
       "    <tr style=\"text-align: right;\">\n",
       "      <th></th>\n",
       "      <th>video_id</th>\n",
       "      <th>trending_date</th>\n",
       "      <th>category_id</th>\n",
       "      <th>publish_time</th>\n",
       "      <th>views</th>\n",
       "      <th>likes</th>\n",
       "      <th>dislikes</th>\n",
       "      <th>comment_count</th>\n",
       "      <th>category_name</th>\n",
       "      <th>tags</th>\n",
       "      <th>video_title</th>\n",
       "      <th>channel_title</th>\n",
       "      <th>description</th>\n",
       "    </tr>\n",
       "  </thead>\n",
       "  <tbody>\n",
       "    <tr>\n",
       "      <th>0</th>\n",
       "      <td>2kyS6SvSYSE</td>\n",
       "      <td>2017-11-14</td>\n",
       "      <td>22</td>\n",
       "      <td>2017-11-13 17:13:01</td>\n",
       "      <td>748374</td>\n",
       "      <td>57527</td>\n",
       "      <td>2966</td>\n",
       "      <td>15954</td>\n",
       "      <td>People &amp; Blogs</td>\n",
       "      <td>shantell martin</td>\n",
       "      <td>we want to talk about our marriage</td>\n",
       "      <td>caseyneistat</td>\n",
       "      <td>shantell s channel https www youtube com shant...</td>\n",
       "    </tr>\n",
       "  </tbody>\n",
       "</table>\n",
       "</div>"
      ],
      "text/plain": [
       "      video_id trending_date  category_id         publish_time   views  likes  \\\n",
       "0  2kyS6SvSYSE    2017-11-14           22  2017-11-13 17:13:01  748374  57527   \n",
       "\n",
       "   dislikes  comment_count   category_name             tags  \\\n",
       "0      2966          15954  People & Blogs  shantell martin   \n",
       "\n",
       "                          video_title channel_title  \\\n",
       "0  we want to talk about our marriage  caseyneistat   \n",
       "\n",
       "                                         description  \n",
       "0  shantell s channel https www youtube com shant...  "
      ]
     },
     "execution_count": 6,
     "metadata": {},
     "output_type": "execute_result"
    }
   ],
   "source": [
    "df = pd.read_csv('../data/preprocessed/video_cln.csv')\n",
    "df.head(1)"
   ]
  },
  {
   "cell_type": "markdown",
   "metadata": {},
   "source": [
    "#### Mantendremos solo la ultima aparcicion de un video_id"
   ]
  },
  {
   "cell_type": "code",
   "execution_count": 7,
   "metadata": {},
   "outputs": [],
   "source": [
    "df.drop_duplicates(subset=['video_id'], keep='last', inplace = True)"
   ]
  },
  {
   "cell_type": "markdown",
   "metadata": {},
   "source": [
    "#### Eliminamos las columnas que no nos ayudan a la clasificacion por categorias"
   ]
  },
  {
   "cell_type": "code",
   "execution_count": 8,
   "metadata": {},
   "outputs": [],
   "source": [
    "df.drop(['video_id', 'trending_date', 'category_id', 'publish_time', 'views', 'likes', 'dislikes',\\\n",
    "        'comment_count', 'channel_title'], axis=1, inplace=True)"
   ]
  },
  {
   "cell_type": "code",
   "execution_count": 9,
   "metadata": {},
   "outputs": [
    {
     "data": {
      "text/html": [
       "<div>\n",
       "<style scoped>\n",
       "    .dataframe tbody tr th:only-of-type {\n",
       "        vertical-align: middle;\n",
       "    }\n",
       "\n",
       "    .dataframe tbody tr th {\n",
       "        vertical-align: top;\n",
       "    }\n",
       "\n",
       "    .dataframe thead th {\n",
       "        text-align: right;\n",
       "    }\n",
       "</style>\n",
       "<table border=\"1\" class=\"dataframe\">\n",
       "  <thead>\n",
       "    <tr style=\"text-align: right;\">\n",
       "      <th></th>\n",
       "      <th>category_name</th>\n",
       "      <th>tags</th>\n",
       "      <th>video_title</th>\n",
       "      <th>description</th>\n",
       "    </tr>\n",
       "  </thead>\n",
       "  <tbody>\n",
       "    <tr>\n",
       "      <th>10</th>\n",
       "      <td>Sports</td>\n",
       "      <td>nfl football offense defense afc nfc american ...</td>\n",
       "      <td>dion lewis 103-yd kick return td vs denver can...</td>\n",
       "      <td>new england patriots returner dion lewis blast...</td>\n",
       "    </tr>\n",
       "    <tr>\n",
       "      <th>36</th>\n",
       "      <td>Film &amp; Animation</td>\n",
       "      <td>screenjunkies screen junkies sj news honest tr...</td>\n",
       "      <td>tl dw every dceu movie before justice league</td>\n",
       "      <td>with justice league approaching fast we rewatc...</td>\n",
       "    </tr>\n",
       "  </tbody>\n",
       "</table>\n",
       "</div>"
      ],
      "text/plain": [
       "       category_name                                               tags  \\\n",
       "10            Sports  nfl football offense defense afc nfc american ...   \n",
       "36  Film & Animation  screenjunkies screen junkies sj news honest tr...   \n",
       "\n",
       "                                          video_title  \\\n",
       "10  dion lewis 103-yd kick return td vs denver can...   \n",
       "36       tl dw every dceu movie before justice league   \n",
       "\n",
       "                                          description  \n",
       "10  new england patriots returner dion lewis blast...  \n",
       "36  with justice league approaching fast we rewatc...  "
      ]
     },
     "execution_count": 9,
     "metadata": {},
     "output_type": "execute_result"
    }
   ],
   "source": [
    "df.head(2)"
   ]
  },
  {
   "cell_type": "markdown",
   "metadata": {},
   "source": [
    "#### Verificamos por entradas NaN"
   ]
  },
  {
   "cell_type": "code",
   "execution_count": 10,
   "metadata": {},
   "outputs": [
    {
     "data": {
      "text/plain": [
       "category_name    0\n",
       "tags             0\n",
       "video_title      1\n",
       "description      0\n",
       "dtype: int64"
      ]
     },
     "execution_count": 10,
     "metadata": {},
     "output_type": "execute_result"
    }
   ],
   "source": [
    "df.isna().sum()"
   ]
  },
  {
   "cell_type": "markdown",
   "metadata": {},
   "source": [
    "Podemos usar un `string` vacio para lidiar con esta unica entrada `NaN`"
   ]
  },
  {
   "cell_type": "code",
   "execution_count": 11,
   "metadata": {},
   "outputs": [],
   "source": [
    "df.fillna(' ', inplace=True)"
   ]
  },
  {
   "cell_type": "code",
   "execution_count": 12,
   "metadata": {},
   "outputs": [
    {
     "name": "stdout",
     "output_type": "stream",
     "text": [
      "<class 'pandas.core.frame.DataFrame'>\n",
      "Int64Index: 6351 entries, 10 to 40948\n",
      "Data columns (total 4 columns):\n",
      " #   Column         Non-Null Count  Dtype \n",
      "---  ------         --------------  ----- \n",
      " 0   category_name  6351 non-null   object\n",
      " 1   tags           6351 non-null   object\n",
      " 2   video_title    6351 non-null   object\n",
      " 3   description    6351 non-null   object\n",
      "dtypes: object(4)\n",
      "memory usage: 248.1+ KB\n"
     ]
    }
   ],
   "source": [
    "df.info()"
   ]
  },
  {
   "cell_type": "markdown",
   "metadata": {},
   "source": [
    "#### Para obtener mejores resultados, combinaremos todo el texto de un video `description`, `tags` y `video_title` "
   ]
  },
  {
   "cell_type": "code",
   "execution_count": 13,
   "metadata": {},
   "outputs": [],
   "source": [
    "df['text_combined'] = df['tags'] + ' ' + df['description'] + ' ' + df['video_title']"
   ]
  },
  {
   "cell_type": "code",
   "execution_count": 14,
   "metadata": {},
   "outputs": [
    {
     "data": {
      "text/html": [
       "<div>\n",
       "<style scoped>\n",
       "    .dataframe tbody tr th:only-of-type {\n",
       "        vertical-align: middle;\n",
       "    }\n",
       "\n",
       "    .dataframe tbody tr th {\n",
       "        vertical-align: top;\n",
       "    }\n",
       "\n",
       "    .dataframe thead th {\n",
       "        text-align: right;\n",
       "    }\n",
       "</style>\n",
       "<table border=\"1\" class=\"dataframe\">\n",
       "  <thead>\n",
       "    <tr style=\"text-align: right;\">\n",
       "      <th></th>\n",
       "      <th>category_name</th>\n",
       "      <th>tags</th>\n",
       "      <th>video_title</th>\n",
       "      <th>description</th>\n",
       "      <th>text_combined</th>\n",
       "    </tr>\n",
       "  </thead>\n",
       "  <tbody>\n",
       "    <tr>\n",
       "      <th>10</th>\n",
       "      <td>Sports</td>\n",
       "      <td>nfl football offense defense afc nfc american ...</td>\n",
       "      <td>dion lewis 103-yd kick return td vs denver can...</td>\n",
       "      <td>new england patriots returner dion lewis blast...</td>\n",
       "      <td>nfl football offense defense afc nfc american ...</td>\n",
       "    </tr>\n",
       "  </tbody>\n",
       "</table>\n",
       "</div>"
      ],
      "text/plain": [
       "   category_name                                               tags  \\\n",
       "10        Sports  nfl football offense defense afc nfc american ...   \n",
       "\n",
       "                                          video_title  \\\n",
       "10  dion lewis 103-yd kick return td vs denver can...   \n",
       "\n",
       "                                          description  \\\n",
       "10  new england patriots returner dion lewis blast...   \n",
       "\n",
       "                                        text_combined  \n",
       "10  nfl football offense defense afc nfc american ...  "
      ]
     },
     "execution_count": 14,
     "metadata": {},
     "output_type": "execute_result"
    }
   ],
   "source": [
    "df.head(1)"
   ]
  },
  {
   "cell_type": "markdown",
   "metadata": {},
   "source": [
    "#### Completado y verificado el paso anterior podemos borrar las columnas individuales usadas"
   ]
  },
  {
   "cell_type": "code",
   "execution_count": 15,
   "metadata": {},
   "outputs": [],
   "source": [
    "df.drop(['tags', 'description', 'video_title'], axis=1, inplace=True)"
   ]
  },
  {
   "cell_type": "code",
   "execution_count": 17,
   "metadata": {},
   "outputs": [],
   "source": [
    "pd.set_option(\"display.max_colwidth\", -1)"
   ]
  },
  {
   "cell_type": "code",
   "execution_count": 18,
   "metadata": {},
   "outputs": [
    {
     "data": {
      "text/html": [
       "<div>\n",
       "<style scoped>\n",
       "    .dataframe tbody tr th:only-of-type {\n",
       "        vertical-align: middle;\n",
       "    }\n",
       "\n",
       "    .dataframe tbody tr th {\n",
       "        vertical-align: top;\n",
       "    }\n",
       "\n",
       "    .dataframe thead th {\n",
       "        text-align: right;\n",
       "    }\n",
       "</style>\n",
       "<table border=\"1\" class=\"dataframe\">\n",
       "  <thead>\n",
       "    <tr style=\"text-align: right;\">\n",
       "      <th></th>\n",
       "      <th>category_name</th>\n",
       "      <th>text_combined</th>\n",
       "    </tr>\n",
       "  </thead>\n",
       "  <tbody>\n",
       "    <tr>\n",
       "      <th>10</th>\n",
       "      <td>Sports</td>\n",
       "      <td>nfl football offense defense afc nfc american football highlight highlights game games sport sports action play plays season 2017 rookie rookies recap run sprint catch huge amazing touchdown td week 9 wk 9 new england patriots pats denver broncos lewis kickoff kick return return td special teams sp dt 2017-11-12t20 30 00-05 00 sp vl en-us sp st football sp li nfl sp ti home den sp ti away ne sp scp athlete_in_match sp ty high nfl-lewdio new england patriots returner dion lewis blasts off for an amazing kickoff return touchdown against the denver broncos in week 10 of the 2017 nfl season n nwatch full games with nfl game pass https www nfl com gamepass campaign sp-nf-gd-ot-yt-3000342 n nsign up for fantasy football http www nfl com fantasyfootball n nsubscribe to nfl http j mp 1l0bvbu n nthe nfl youtube channel is your home for immediate in-game highlights from your favorite teams and players full nfl games behind the scenes access and more n ncheck out our other channels nnfl network http www youtube com nflnetwork nnfl films http www youtube com nflfilms n nfor all things nfl visit the league s official website at http www nfl com n nwatch nfl now https www nfl com now nlisten to nfl podcasts http www nfl com podcasts nwatch the nfl network http nflnonline nfl com ndownload the nfl mobile app https www nfl com apps n2017 nfl schedule http www nfl com schedules nbuy tickets to watch your favorite team http www nfl com tickets nshop nfl http www nflshop com source bm-nflcom-header-shop-tab n nlike us on facebook https www facebook com nfl nfollow us on twitter https twitter com nfl nfollow us on instagram https instagram com nfl nfind us on snapchat dion lewis 103-yd kick return td vs denver can t-miss play nfl wk 10 highlights</td>\n",
       "    </tr>\n",
       "  </tbody>\n",
       "</table>\n",
       "</div>"
      ],
      "text/plain": [
       "   category_name  \\\n",
       "10  Sports         \n",
       "\n",
       "                                                                                                                                                                                                                                                                                                                                                                                                                                                                                                                                                                                                                                                                                                                                                                                                                                                                                                                                                                                                                                                                                                                                                                                                                                                                                                                                                                                                                                                                                                                                                                                                                                                                                                                                                                                                                   text_combined  \n",
       "10  nfl football offense defense afc nfc american football highlight highlights game games sport sports action play plays season 2017 rookie rookies recap run sprint catch huge amazing touchdown td week 9 wk 9 new england patriots pats denver broncos lewis kickoff kick return return td special teams sp dt 2017-11-12t20 30 00-05 00 sp vl en-us sp st football sp li nfl sp ti home den sp ti away ne sp scp athlete_in_match sp ty high nfl-lewdio new england patriots returner dion lewis blasts off for an amazing kickoff return touchdown against the denver broncos in week 10 of the 2017 nfl season n nwatch full games with nfl game pass https www nfl com gamepass campaign sp-nf-gd-ot-yt-3000342 n nsign up for fantasy football http www nfl com fantasyfootball n nsubscribe to nfl http j mp 1l0bvbu n nthe nfl youtube channel is your home for immediate in-game highlights from your favorite teams and players full nfl games behind the scenes access and more n ncheck out our other channels nnfl network http www youtube com nflnetwork nnfl films http www youtube com nflfilms n nfor all things nfl visit the league s official website at http www nfl com n nwatch nfl now https www nfl com now nlisten to nfl podcasts http www nfl com podcasts nwatch the nfl network http nflnonline nfl com ndownload the nfl mobile app https www nfl com apps n2017 nfl schedule http www nfl com schedules nbuy tickets to watch your favorite team http www nfl com tickets nshop nfl http www nflshop com source bm-nflcom-header-shop-tab n nlike us on facebook https www facebook com nfl nfollow us on twitter https twitter com nfl nfollow us on instagram https instagram com nfl nfind us on snapchat dion lewis 103-yd kick return td vs denver can t-miss play nfl wk 10 highlights  "
      ]
     },
     "execution_count": 18,
     "metadata": {},
     "output_type": "execute_result"
    }
   ],
   "source": [
    "df.head(1)"
   ]
  },
  {
   "cell_type": "markdown",
   "metadata": {},
   "source": [
    "#### Existen muchas palabras o digitos que no aportan informacion a nuestro modelo\n",
    "Crearemos una funcion que transforme las palabras existente `Lematization` "
   ]
  },
  {
   "cell_type": "code",
   "execution_count": 26,
   "metadata": {},
   "outputs": [],
   "source": [
    "stopwords = set(STOPWORDS)\n",
    "stopwords.update(['follow', 'twitter', 'social', 'instagram', 'subscribe', 'snapchat', 'youtube', 'videos', 'video'\\\n",
    "                  ,'channel', 'share', 'facebook', 'comment', 'like', 'take', 'go', 'got', 'back',\\\n",
    "                  'much', 'made', 'keep', 'watch','none', 'check', 'will', 'make', 'https',\\\n",
    "                  'nfollow', 'ntwitter', 'nsocial', 'ninstagram', 'nhttp', 'nfacebook',\\\n",
    "                  'n', 'nhttps', 'tumblr', 'e', 'youtube', 'netflix', 'bit', 'ly',\\\n",
    "                  'nwatch', 'goo', 'gl', 'amzn', 'nnbc', 'nbc', 'youtu', 'nlike',\\\n",
    "                  'google', 'plus', 'nclick', 'nbctv', 'c', 's', 'nsubscribe', 'iphone',\\\n",
    "                  'pl7u4lwxq3wfi_7pgx0c-vtiwleu0s4v34', '2018', 'nlearn'])"
   ]
  },
  {
   "cell_type": "code",
   "execution_count": 36,
   "metadata": {},
   "outputs": [],
   "source": [
    "def preprocessing(text):\n",
    "    stemmer = PorterStemmer()\n",
    "    processed_text = ''\n",
    "    for word in text.split():\n",
    "        if not word.isalpha() or len(word) < 3:\n",
    "            continue\n",
    "        elif not word in stopwords:\n",
    "            processed_text += stemmer.stem(word) + \" \"\n",
    "\n",
    "    return processed_text"
   ]
  },
  {
   "cell_type": "code",
   "execution_count": 23,
   "metadata": {},
   "outputs": [],
   "source": [
    "test = \"\"\"\n",
    "nfl football offense defense afc nfc american football highlight highlights game games \n",
    "sport sports action play plays season 2017 rookie rookies recap run sprint catch huge \n",
    "amazing touchdown td week 9 wk 9 new england patriots pats denver broncos lewis kickoff \n",
    "kick return return td special teams sp dt 2017-11-12t20 30 00-05 00 sp vl en-us sp st \n",
    "football sp li nfl sp ti home den sp ti away ne sp scp athlete_in_match sp ty high \n",
    "nfl-lewdio new england patriots returner dion lewis blasts off for an amazing kickoff \n",
    "return touchdown against the denver broncos in week 10 of the 2017 nfl season n nwatch \n",
    "full games with nfl game pass https www nfl com gamepass campaign sp-nf-gd-ot-yt-3000342 \n",
    "n nsign up for fantasy football http www nfl com fantasyfootball n nsubscribe to nfl http \n",
    "j mp 1l0bvbu n nthe nfl youtube channel is your home for immediate in-game highlights \n",
    "from your favorite teams and players full nfl games behind the scenes access and more n \n",
    "ncheck out our other channels nnfl network http www youtube com nflnetwork nnfl films http \n",
    "www youtube com nflfilms n nfor all things nfl visit the league s official website at http \n",
    "www nfl com n nwatch nfl now https www nfl com now nlisten to nfl podcasts http www nfl com \n",
    "podcasts nwatch the nfl network http nflnonline nfl com ndownload the nfl mobile app https \n",
    "www nfl com apps n2017 nfl schedule http www nfl com schedules nbuy tickets to watch your \n",
    "favorite team http www nfl com tickets nshop nfl http www nflshop com source \n",
    "bm-nflcom-header-shop-tab n nlike us on facebook https www facebook com nfl nfollow us on \n",
    "twitter https twitter com nfl nfollow us on instagram https instagram com nfl nfind us on \n",
    "snapchat dion lewis 103-yd kick return td vs denver can t-miss play nfl wk 10 highlights\n",
    "\"\"\""
   ]
  },
  {
   "cell_type": "code",
   "execution_count": 37,
   "metadata": {},
   "outputs": [
    {
     "data": {
      "text/plain": [
       "'nfl footbal offens defens afc nfc american footbal highlight highlight game game sport sport action play play season rooki rooki recap run sprint catch huge amaz touchdown week new england patriot pat denver bronco lewi kickoff kick return return special team footbal nfl home den away scp high new england patriot return dion lewi blast amaz kickoff return touchdown denver bronco week nfl season full game nfl game pass nfl gamepass campaign nsign fantasi footbal nfl fantasyfootbal nfl nthe nfl home immedi highlight favorit team player full nfl game behind scene access ncheck channel nnfl network nflnetwork nnfl film nflfilm nfor thing nfl visit leagu offici websit nfl nfl now nfl now nlisten nfl podcast nfl podcast nfl network nflnonlin nfl ndownload nfl mobil app nfl app nfl schedul nfl schedul nbuy ticket favorit team nfl ticket nshop nfl nflshop sourc nfl nfl nfl nfind dion lewi kick return denver play nfl highlight '"
      ]
     },
     "execution_count": 37,
     "metadata": {},
     "output_type": "execute_result"
    }
   ],
   "source": [
    "preprocessing(test)"
   ]
  },
  {
   "cell_type": "markdown",
   "metadata": {},
   "source": [
    "Aplicamos la funcion creada sobre nuestra columna `text_combined`"
   ]
  },
  {
   "cell_type": "code",
   "execution_count": 38,
   "metadata": {},
   "outputs": [],
   "source": [
    "df['text_combined'] = df['text_combined'].apply(preprocessing)"
   ]
  },
  {
   "cell_type": "markdown",
   "metadata": {},
   "source": [
    "Es momento de analizar el balance de nuestro datos por categoria"
   ]
  },
  {
   "cell_type": "code",
   "execution_count": 45,
   "metadata": {},
   "outputs": [
    {
     "data": {
      "text/html": [
       "<div>\n",
       "<style scoped>\n",
       "    .dataframe tbody tr th:only-of-type {\n",
       "        vertical-align: middle;\n",
       "    }\n",
       "\n",
       "    .dataframe tbody tr th {\n",
       "        vertical-align: top;\n",
       "    }\n",
       "\n",
       "    .dataframe thead th {\n",
       "        text-align: right;\n",
       "    }\n",
       "</style>\n",
       "<table border=\"1\" class=\"dataframe\">\n",
       "  <thead>\n",
       "    <tr style=\"text-align: right;\">\n",
       "      <th></th>\n",
       "      <th>category_name</th>\n",
       "    </tr>\n",
       "  </thead>\n",
       "  <tbody>\n",
       "    <tr>\n",
       "      <th>Entertainment</th>\n",
       "      <td>1621</td>\n",
       "    </tr>\n",
       "    <tr>\n",
       "      <th>Music</th>\n",
       "      <td>801</td>\n",
       "    </tr>\n",
       "    <tr>\n",
       "      <th>Howto &amp; Style</th>\n",
       "      <td>594</td>\n",
       "    </tr>\n",
       "    <tr>\n",
       "      <th>Comedy</th>\n",
       "      <td>544</td>\n",
       "    </tr>\n",
       "    <tr>\n",
       "      <th>News &amp; Politics</th>\n",
       "      <td>504</td>\n",
       "    </tr>\n",
       "    <tr>\n",
       "      <th>People &amp; Blogs</th>\n",
       "      <td>495</td>\n",
       "    </tr>\n",
       "    <tr>\n",
       "      <th>Sports</th>\n",
       "      <td>449</td>\n",
       "    </tr>\n",
       "    <tr>\n",
       "      <th>Science &amp; Technology</th>\n",
       "      <td>381</td>\n",
       "    </tr>\n",
       "    <tr>\n",
       "      <th>Film &amp; Animation</th>\n",
       "      <td>320</td>\n",
       "    </tr>\n",
       "    <tr>\n",
       "      <th>Education</th>\n",
       "      <td>251</td>\n",
       "    </tr>\n",
       "    <tr>\n",
       "      <th>Pets &amp; Animals</th>\n",
       "      <td>140</td>\n",
       "    </tr>\n",
       "    <tr>\n",
       "      <th>Gaming</th>\n",
       "      <td>103</td>\n",
       "    </tr>\n",
       "    <tr>\n",
       "      <th>Autos &amp; Vehicles</th>\n",
       "      <td>71</td>\n",
       "    </tr>\n",
       "    <tr>\n",
       "      <th>Travel &amp; Events</th>\n",
       "      <td>59</td>\n",
       "    </tr>\n",
       "    <tr>\n",
       "      <th>Nonprofits &amp; Activism</th>\n",
       "      <td>14</td>\n",
       "    </tr>\n",
       "    <tr>\n",
       "      <th>Shows</th>\n",
       "      <td>4</td>\n",
       "    </tr>\n",
       "  </tbody>\n",
       "</table>\n",
       "</div>"
      ],
      "text/plain": [
       "                       category_name\n",
       "Entertainment          1621         \n",
       "Music                  801          \n",
       "Howto & Style          594          \n",
       "Comedy                 544          \n",
       "News & Politics        504          \n",
       "People & Blogs         495          \n",
       "Sports                 449          \n",
       "Science & Technology   381          \n",
       "Film & Animation       320          \n",
       "Education              251          \n",
       "Pets & Animals         140          \n",
       "Gaming                 103          \n",
       "Autos & Vehicles       71           \n",
       "Travel & Events        59           \n",
       "Nonprofits & Activism  14           \n",
       "Shows                  4            "
      ]
     },
     "execution_count": 45,
     "metadata": {},
     "output_type": "execute_result"
    }
   ],
   "source": [
    "df['category_name'].value_counts().to_frame()"
   ]
  },
  {
   "cell_type": "markdown",
   "metadata": {},
   "source": [
    "Tomaremos las 8 primeras categorias"
   ]
  },
  {
   "cell_type": "code",
   "execution_count": 62,
   "metadata": {},
   "outputs": [],
   "source": [
    "categories_selected = ['Entertainment', 'Music', 'Howto & Style', 'Comedy',\\\n",
    "            'News & Politics', 'People & Blogs', 'Sports', 'Science & Technology']\n",
    "\n",
    "df2 = df.apply(lambda r: r if r['category_name'] in categories_selected else np.NaN, axis=1)"
   ]
  },
  {
   "cell_type": "code",
   "execution_count": null,
   "metadata": {},
   "outputs": [],
   "source": [
    "df2.dropna(axis=0, inplace=True)\n",
    "df2"
   ]
  },
  {
   "cell_type": "markdown",
   "metadata": {},
   "source": [
    "## Separacion de datos de entrenamiento y prueba"
   ]
  },
  {
   "cell_type": "code",
   "execution_count": 64,
   "metadata": {},
   "outputs": [],
   "source": [
    "X = df2['text_combined']\n",
    "y = df2['category_name']"
   ]
  },
  {
   "cell_type": "code",
   "execution_count": 65,
   "metadata": {},
   "outputs": [],
   "source": [
    "X_train, X_test, y_train, y_test = train_test_split(X,y,test_size=0.3, random_state=42)"
   ]
  },
  {
   "cell_type": "markdown",
   "metadata": {},
   "source": [
    "***Bag of Words Model***: es un método que se utiliza en el procesado del lenguaje para representar documentos ignorando el orden de las palabras. En este modelo, cada documento parece una bolsa que contiene algunas palabras."
   ]
  },
  {
   "cell_type": "code",
   "execution_count": 66,
   "metadata": {},
   "outputs": [],
   "source": [
    "# Applying bag of words to features in training and testing data\n",
    "bow = CountVectorizer()\n",
    "X_train_bow = bow.fit_transform(X_train)\n",
    "X_test_bow = bow.transform(X_test)"
   ]
  },
  {
   "cell_type": "code",
   "execution_count": null,
   "metadata": {},
   "outputs": [],
   "source": [
    "pd.DataFrame(X_train_bow)"
   ]
  },
  {
   "cell_type": "code",
   "execution_count": 68,
   "metadata": {},
   "outputs": [
    {
     "data": {
      "text/plain": [
       "RandomForestClassifier(random_state=0)"
      ]
     },
     "execution_count": 68,
     "metadata": {},
     "output_type": "execute_result"
    }
   ],
   "source": [
    "#cl = RandomForestClassifier(random_state = 0, n_estimators=1000)\n",
    "cl = RandomForestClassifier(random_state = 0)\n",
    "cl.fit(X_train_bow, y_train)"
   ]
  },
  {
   "cell_type": "code",
   "execution_count": 105,
   "metadata": {},
   "outputs": [
    {
     "data": {
      "text/plain": [
       "0.7977736549165121"
      ]
     },
     "execution_count": 105,
     "metadata": {},
     "output_type": "execute_result"
    }
   ],
   "source": [
    "cl.score(X_test_bow, y_test)"
   ]
  },
  {
   "cell_type": "code",
   "execution_count": 69,
   "metadata": {},
   "outputs": [],
   "source": [
    "y_pred = cl.predict(X_test_bow)"
   ]
  },
  {
   "cell_type": "code",
   "execution_count": 71,
   "metadata": {},
   "outputs": [
    {
     "name": "stdout",
     "output_type": "stream",
     "text": [
      "                      precision    recall  f1-score   support\n",
      "\n",
      "              Comedy       0.81      0.81      0.81       166\n",
      "       Entertainment       0.73      0.87      0.79       469\n",
      "       Howto & Style       0.83      0.80      0.81       185\n",
      "               Music       0.87      0.90      0.89       227\n",
      "     News & Politics       0.77      0.90      0.83       164\n",
      "      People & Blogs       0.79      0.42      0.55       151\n",
      "Science & Technology       0.91      0.57      0.70       129\n",
      "              Sports       0.90      0.87      0.88       126\n",
      "\n",
      "            accuracy                           0.80      1617\n",
      "           macro avg       0.83      0.77      0.78      1617\n",
      "        weighted avg       0.81      0.80      0.79      1617\n",
      "\n"
     ]
    }
   ],
   "source": [
    "print(classification_report(y_test,y_pred))"
   ]
  },
  {
   "cell_type": "markdown",
   "metadata": {},
   "source": [
    "### Verificando los resultados"
   ]
  },
  {
   "cell_type": "code",
   "execution_count": 78,
   "metadata": {},
   "outputs": [],
   "source": [
    "df_results = pd.DataFrame()\n",
    "df_results['y_true'] = y_test\n",
    "df_results['y_predict'] = y_pred"
   ]
  },
  {
   "cell_type": "code",
   "execution_count": 111,
   "metadata": {},
   "outputs": [
    {
     "data": {
      "text/html": [
       "<div>\n",
       "<style scoped>\n",
       "    .dataframe tbody tr th:only-of-type {\n",
       "        vertical-align: middle;\n",
       "    }\n",
       "\n",
       "    .dataframe tbody tr th {\n",
       "        vertical-align: top;\n",
       "    }\n",
       "\n",
       "    .dataframe thead th {\n",
       "        text-align: right;\n",
       "    }\n",
       "</style>\n",
       "<table border=\"1\" class=\"dataframe\">\n",
       "  <thead>\n",
       "    <tr style=\"text-align: right;\">\n",
       "      <th></th>\n",
       "      <th>y_true</th>\n",
       "    </tr>\n",
       "  </thead>\n",
       "  <tbody>\n",
       "    <tr>\n",
       "      <th>Entertainment</th>\n",
       "      <td>469</td>\n",
       "    </tr>\n",
       "    <tr>\n",
       "      <th>Music</th>\n",
       "      <td>227</td>\n",
       "    </tr>\n",
       "    <tr>\n",
       "      <th>Howto &amp; Style</th>\n",
       "      <td>185</td>\n",
       "    </tr>\n",
       "    <tr>\n",
       "      <th>Comedy</th>\n",
       "      <td>166</td>\n",
       "    </tr>\n",
       "    <tr>\n",
       "      <th>News &amp; Politics</th>\n",
       "      <td>164</td>\n",
       "    </tr>\n",
       "    <tr>\n",
       "      <th>People &amp; Blogs</th>\n",
       "      <td>151</td>\n",
       "    </tr>\n",
       "    <tr>\n",
       "      <th>Science &amp; Technology</th>\n",
       "      <td>129</td>\n",
       "    </tr>\n",
       "    <tr>\n",
       "      <th>Sports</th>\n",
       "      <td>126</td>\n",
       "    </tr>\n",
       "  </tbody>\n",
       "</table>\n",
       "</div>"
      ],
      "text/plain": [
       "                      y_true\n",
       "Entertainment         469   \n",
       "Music                 227   \n",
       "Howto & Style         185   \n",
       "Comedy                166   \n",
       "News & Politics       164   \n",
       "People & Blogs        151   \n",
       "Science & Technology  129   \n",
       "Sports                126   "
      ]
     },
     "metadata": {},
     "output_type": "display_data"
    },
    {
     "data": {
      "text/html": [
       "<div>\n",
       "<style scoped>\n",
       "    .dataframe tbody tr th:only-of-type {\n",
       "        vertical-align: middle;\n",
       "    }\n",
       "\n",
       "    .dataframe tbody tr th {\n",
       "        vertical-align: top;\n",
       "    }\n",
       "\n",
       "    .dataframe thead th {\n",
       "        text-align: right;\n",
       "    }\n",
       "</style>\n",
       "<table border=\"1\" class=\"dataframe\">\n",
       "  <thead>\n",
       "    <tr style=\"text-align: right;\">\n",
       "      <th></th>\n",
       "      <th>y_predict</th>\n",
       "    </tr>\n",
       "  </thead>\n",
       "  <tbody>\n",
       "    <tr>\n",
       "      <th>Entertainment</th>\n",
       "      <td>562</td>\n",
       "    </tr>\n",
       "    <tr>\n",
       "      <th>Music</th>\n",
       "      <td>235</td>\n",
       "    </tr>\n",
       "    <tr>\n",
       "      <th>News &amp; Politics</th>\n",
       "      <td>192</td>\n",
       "    </tr>\n",
       "    <tr>\n",
       "      <th>Howto &amp; Style</th>\n",
       "      <td>179</td>\n",
       "    </tr>\n",
       "    <tr>\n",
       "      <th>Comedy</th>\n",
       "      <td>167</td>\n",
       "    </tr>\n",
       "    <tr>\n",
       "      <th>Sports</th>\n",
       "      <td>121</td>\n",
       "    </tr>\n",
       "    <tr>\n",
       "      <th>Science &amp; Technology</th>\n",
       "      <td>81</td>\n",
       "    </tr>\n",
       "    <tr>\n",
       "      <th>People &amp; Blogs</th>\n",
       "      <td>80</td>\n",
       "    </tr>\n",
       "  </tbody>\n",
       "</table>\n",
       "</div>"
      ],
      "text/plain": [
       "                      y_predict\n",
       "Entertainment         562      \n",
       "Music                 235      \n",
       "News & Politics       192      \n",
       "Howto & Style         179      \n",
       "Comedy                167      \n",
       "Sports                121      \n",
       "Science & Technology  81       \n",
       "People & Blogs        80       "
      ]
     },
     "metadata": {},
     "output_type": "display_data"
    }
   ],
   "source": [
    "display(df_results['y_true'].value_counts().to_frame())\n",
    "display(df_results['y_predict'].value_counts().to_frame())"
   ]
  },
  {
   "cell_type": "code",
   "execution_count": 107,
   "metadata": {},
   "outputs": [
    {
     "data": {
      "image/png": "[encoded data removed]",
      "text/plain": [
       "<Figure size 432x288 with 1 Axes>"
      ]
     },
     "metadata": {
      "needs_background": "light"
     },
     "output_type": "display_data"
    },
    {
     "data": {
      "image/png": "[encoded data removed]",
      "text/plain": [
       "<Figure size 432x288 with 1 Axes>"
      ]
     },
     "metadata": {
      "needs_background": "light"
     },
     "output_type": "display_data"
    }
   ],
   "source": [
    "#fig, ax = plt.subplots(2,1, figsize=(8,12))\n",
    "plt.figure()\n",
    "sns.histplot(df_results, y='y_true')\n",
    "plt.yticks(ticks=np.arange(len(df_results['y_true'].unique())), \n",
    "                 labels=df_results['y_true'].unique())\n",
    "plt.title(\"Datos originales\")\n",
    "\n",
    "plt.figure()\n",
    "sns.histplot(df_results, y='y_predict')\n",
    "plt.yticks(np.arange(len(df_results['y_true'].unique())), df_results['y_true'].unique())\n",
    "plt.title(\"Datos predecidos\");\n"
   ]
  },
  {
   "cell_type": "markdown",
   "metadata": {},
   "source": [
    "## Conclusiones\n",
    "\n",
    "* El modelo de bolsa de palabras muestra una alta eficiencia para optimizar nuestro modelo clasificador, a pesar de la bajar cantidad de registros por categorias\n",
    "* El estimador `RandomForestClassifier` demuestra una gran adaptacion a los datos, usando los parametros por defecto, implementando regularizacion, es posible mejorar el score obtenido de ***79%***"
   ]
  },
  {
   "cell_type": "code",
   "execution_count": null,
   "metadata": {},
   "outputs": [],
   "source": []
  }
 ],
 "metadata": {
  "interpreter": {
   "hash": "7eee29653e88b609714f9afda52040657fe2540735c19fa758d54683dd20314e"
  },
  "kernelspec": {
   "display_name": "Python 3.9.7 ('cookiecutter-project')",
   "language": "python",
   "name": "python3"
  },
  "language_info": {
   "codemirror_mode": {
    "name": "ipython",
    "version": 3
   },
   "file_extension": ".py",
   "mimetype": "text/x-python",
   "name": "python",
   "nbconvert_exporter": "python",
   "pygments_lexer": "ipython3",
   "version": "3.9.7"
  },
  "orig_nbformat": 4
 },
 "nbformat": 4,
 "nbformat_minor": 2
}
