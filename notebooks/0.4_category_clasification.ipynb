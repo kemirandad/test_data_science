{
 "cells": [
  {
   "cell_type": "code",
   "execution_count": 1,
   "metadata": {},
   "outputs": [],
   "source": [
    "from sklearn.model_selection import train_test_split\n",
    "\n",
    "from sklearn.feature_extraction.text import CountVectorizer\n",
    "from sklearn.feature_extraction.text import TfidfVectorizer\n",
    "from sklearn.metrics import classification_report\n",
    "\n",
    "from nltk.stem import PorterStemmer\n",
    "from wordcloud import STOPWORDS\n",
    "\n",
    "from sklearn.ensemble import RandomForestClassifier\n",
    "\n",
    "import pandas as pd\n",
    "import numpy as np\n",
    "import warnings\n",
    "from IPython.display import display\n",
    "\n",
    "warnings.filterwarnings('ignore')#to filter all the warnings\n",
    "import seaborn as sns\n",
    "pd.set_option('float_format', '{:.4f}'.format)# to keep the float values short\n",
    "\n",
    "import matplotlib.pyplot as plt\n",
    "%matplotlib inline"
   ]
  },
  {
   "cell_type": "markdown",
   "metadata": {},
   "source": []
  },
  {
   "cell_type": "code",
   "execution_count": 2,
   "metadata": {},
   "outputs": [
    {
     "data": {
      "text/html": [
       "<div>\n",
       "<style scoped>\n",
       "    .dataframe tbody tr th:only-of-type {\n",
       "        vertical-align: middle;\n",
       "    }\n",
       "\n",
       "    .dataframe tbody tr th {\n",
       "        vertical-align: top;\n",
       "    }\n",
       "\n",
       "    .dataframe thead th {\n",
       "        text-align: right;\n",
       "    }\n",
       "</style>\n",
       "<table border=\"1\" class=\"dataframe\">\n",
       "  <thead>\n",
       "    <tr style=\"text-align: right;\">\n",
       "      <th></th>\n",
       "      <th>video_id</th>\n",
       "      <th>trending_date</th>\n",
       "      <th>category_id</th>\n",
       "      <th>publish_time</th>\n",
       "      <th>views</th>\n",
       "      <th>likes</th>\n",
       "      <th>dislikes</th>\n",
       "      <th>comment_count</th>\n",
       "      <th>category_name</th>\n",
       "      <th>tags</th>\n",
       "      <th>video_title</th>\n",
       "      <th>channel_title</th>\n",
       "      <th>description</th>\n",
       "    </tr>\n",
       "  </thead>\n",
       "  <tbody>\n",
       "    <tr>\n",
       "      <th>0</th>\n",
       "      <td>2kyS6SvSYSE</td>\n",
       "      <td>2017-11-14</td>\n",
       "      <td>22</td>\n",
       "      <td>2017-11-13 17:13:01</td>\n",
       "      <td>748374</td>\n",
       "      <td>57527</td>\n",
       "      <td>2966</td>\n",
       "      <td>15954</td>\n",
       "      <td>People &amp; Blogs</td>\n",
       "      <td>shantell martin</td>\n",
       "      <td>we want to talk about our marriage</td>\n",
       "      <td>caseyneistat</td>\n",
       "      <td>shantell s channel https www youtube com shant...</td>\n",
       "    </tr>\n",
       "  </tbody>\n",
       "</table>\n",
       "</div>"
      ],
      "text/plain": [
       "      video_id trending_date  category_id         publish_time   views  likes  \\\n",
       "0  2kyS6SvSYSE    2017-11-14           22  2017-11-13 17:13:01  748374  57527   \n",
       "\n",
       "   dislikes  comment_count   category_name             tags  \\\n",
       "0      2966          15954  People & Blogs  shantell martin   \n",
       "\n",
       "                          video_title channel_title  \\\n",
       "0  we want to talk about our marriage  caseyneistat   \n",
       "\n",
       "                                         description  \n",
       "0  shantell s channel https www youtube com shant...  "
      ]
     },
     "execution_count": 2,
     "metadata": {},
     "output_type": "execute_result"
    }
   ],
   "source": [
    "df = pd.read_csv('../data/preprocessed/video_cln.csv')\n",
    "df.head(1)"
   ]
  },
  {
   "cell_type": "markdown",
   "metadata": {},
   "source": [
    "#### Mantendremos solo la ultima aparcicion de un video_id"
   ]
  },
  {
   "cell_type": "code",
   "execution_count": 3,
   "metadata": {},
   "outputs": [],
   "source": [
    "df.drop_duplicates(subset=['video_id'], keep='last', inplace = True)"
   ]
  },
  {
   "cell_type": "markdown",
   "metadata": {},
   "source": [
    "#### Eliminamos las columnas que no nos ayudan a la clasificacion por categorias"
   ]
  },
  {
   "cell_type": "code",
   "execution_count": 4,
   "metadata": {},
   "outputs": [],
   "source": [
    "df.drop(['video_id', 'trending_date', 'category_id', 'publish_time', 'views', 'likes', 'dislikes',\\\n",
    "        'comment_count', 'channel_title'], axis=1, inplace=True)"
   ]
  },
  {
   "cell_type": "code",
   "execution_count": 5,
   "metadata": {},
   "outputs": [
    {
     "data": {
      "text/html": [
       "<div>\n",
       "<style scoped>\n",
       "    .dataframe tbody tr th:only-of-type {\n",
       "        vertical-align: middle;\n",
       "    }\n",
       "\n",
       "    .dataframe tbody tr th {\n",
       "        vertical-align: top;\n",
       "    }\n",
       "\n",
       "    .dataframe thead th {\n",
       "        text-align: right;\n",
       "    }\n",
       "</style>\n",
       "<table border=\"1\" class=\"dataframe\">\n",
       "  <thead>\n",
       "    <tr style=\"text-align: right;\">\n",
       "      <th></th>\n",
       "      <th>category_name</th>\n",
       "      <th>tags</th>\n",
       "      <th>video_title</th>\n",
       "      <th>description</th>\n",
       "    </tr>\n",
       "  </thead>\n",
       "  <tbody>\n",
       "    <tr>\n",
       "      <th>10</th>\n",
       "      <td>Sports</td>\n",
       "      <td>nfl football offense defense afc nfc american ...</td>\n",
       "      <td>dion lewis 103-yd kick return td vs denver can...</td>\n",
       "      <td>new england patriots returner dion lewis blast...</td>\n",
       "    </tr>\n",
       "    <tr>\n",
       "      <th>36</th>\n",
       "      <td>Film &amp; Animation</td>\n",
       "      <td>screenjunkies screen junkies sj news honest tr...</td>\n",
       "      <td>tl dw every dceu movie before justice league</td>\n",
       "      <td>with justice league approaching fast we rewatc...</td>\n",
       "    </tr>\n",
       "  </tbody>\n",
       "</table>\n",
       "</div>"
      ],
      "text/plain": [
       "       category_name                                               tags  \\\n",
       "10            Sports  nfl football offense defense afc nfc american ...   \n",
       "36  Film & Animation  screenjunkies screen junkies sj news honest tr...   \n",
       "\n",
       "                                          video_title  \\\n",
       "10  dion lewis 103-yd kick return td vs denver can...   \n",
       "36       tl dw every dceu movie before justice league   \n",
       "\n",
       "                                          description  \n",
       "10  new england patriots returner dion lewis blast...  \n",
       "36  with justice league approaching fast we rewatc...  "
      ]
     },
     "execution_count": 5,
     "metadata": {},
     "output_type": "execute_result"
    }
   ],
   "source": [
    "df.head(2)"
   ]
  },
  {
   "cell_type": "markdown",
   "metadata": {},
   "source": [
    "#### Verificamos por entradas NaN"
   ]
  },
  {
   "cell_type": "code",
   "execution_count": 6,
   "metadata": {},
   "outputs": [
    {
     "data": {
      "text/plain": [
       "category_name    0\n",
       "tags             0\n",
       "video_title      1\n",
       "description      0\n",
       "dtype: int64"
      ]
     },
     "execution_count": 6,
     "metadata": {},
     "output_type": "execute_result"
    }
   ],
   "source": [
    "df.isna().sum()"
   ]
  },
  {
   "cell_type": "markdown",
   "metadata": {},
   "source": [
    "Podemos usar un `string` vacio para lidiar con esta unica entrada `NaN`"
   ]
  },
  {
   "cell_type": "code",
   "execution_count": 7,
   "metadata": {},
   "outputs": [],
   "source": [
    "df.fillna(' ', inplace=True)"
   ]
  },
  {
   "cell_type": "code",
   "execution_count": 8,
   "metadata": {},
   "outputs": [
    {
     "name": "stdout",
     "output_type": "stream",
     "text": [
      "<class 'pandas.core.frame.DataFrame'>\n",
      "Int64Index: 6351 entries, 10 to 40948\n",
      "Data columns (total 4 columns):\n",
      " #   Column         Non-Null Count  Dtype \n",
      "---  ------         --------------  ----- \n",
      " 0   category_name  6351 non-null   object\n",
      " 1   tags           6351 non-null   object\n",
      " 2   video_title    6351 non-null   object\n",
      " 3   description    6351 non-null   object\n",
      "dtypes: object(4)\n",
      "memory usage: 248.1+ KB\n"
     ]
    }
   ],
   "source": [
    "df.info()"
   ]
  },
  {
   "cell_type": "markdown",
   "metadata": {},
   "source": [
    "#### Para obtener mejores resultados, combinaremos todo el texto de un video `description`, `tags` y `video_title` "
   ]
  },
  {
   "cell_type": "code",
   "execution_count": 9,
   "metadata": {},
   "outputs": [],
   "source": [
    "df['text_combined'] = df['tags'] + ' ' + df['description'] + ' ' + df['video_title']"
   ]
  },
  {
   "cell_type": "code",
   "execution_count": 10,
   "metadata": {},
   "outputs": [
    {
     "data": {
      "text/html": [
       "<div>\n",
       "<style scoped>\n",
       "    .dataframe tbody tr th:only-of-type {\n",
       "        vertical-align: middle;\n",
       "    }\n",
       "\n",
       "    .dataframe tbody tr th {\n",
       "        vertical-align: top;\n",
       "    }\n",
       "\n",
       "    .dataframe thead th {\n",
       "        text-align: right;\n",
       "    }\n",
       "</style>\n",
       "<table border=\"1\" class=\"dataframe\">\n",
       "  <thead>\n",
       "    <tr style=\"text-align: right;\">\n",
       "      <th></th>\n",
       "      <th>category_name</th>\n",
       "      <th>tags</th>\n",
       "      <th>video_title</th>\n",
       "      <th>description</th>\n",
       "      <th>text_combined</th>\n",
       "    </tr>\n",
       "  </thead>\n",
       "  <tbody>\n",
       "    <tr>\n",
       "      <th>10</th>\n",
       "      <td>Sports</td>\n",
       "      <td>nfl football offense defense afc nfc american ...</td>\n",
       "      <td>dion lewis 103-yd kick return td vs denver can...</td>\n",
       "      <td>new england patriots returner dion lewis blast...</td>\n",
       "      <td>nfl football offense defense afc nfc american ...</td>\n",
       "    </tr>\n",
       "  </tbody>\n",
       "</table>\n",
       "</div>"
      ],
      "text/plain": [
       "   category_name                                               tags  \\\n",
       "10        Sports  nfl football offense defense afc nfc american ...   \n",
       "\n",
       "                                          video_title  \\\n",
       "10  dion lewis 103-yd kick return td vs denver can...   \n",
       "\n",
       "                                          description  \\\n",
       "10  new england patriots returner dion lewis blast...   \n",
       "\n",
       "                                        text_combined  \n",
       "10  nfl football offense defense afc nfc american ...  "
      ]
     },
     "execution_count": 10,
     "metadata": {},
     "output_type": "execute_result"
    }
   ],
   "source": [
    "df.head(1)"
   ]
  },
  {
   "cell_type": "markdown",
   "metadata": {},
   "source": [
    "#### Completado y verificado el paso anterior podemos borrar las columnas individuales usadas"
   ]
  },
  {
   "cell_type": "code",
   "execution_count": 11,
   "metadata": {},
   "outputs": [],
   "source": [
    "df.drop(['tags', 'description', 'video_title'], axis=1, inplace=True)"
   ]
  },
  {
   "cell_type": "code",
   "execution_count": 12,
   "metadata": {},
   "outputs": [],
   "source": [
    "pd.set_option(\"display.max_colwidth\", -1)"
   ]
  },
  {
   "cell_type": "code",
   "execution_count": 13,
   "metadata": {},
   "outputs": [
    {
     "data": {
      "text/html": [
       "<div>\n",
       "<style scoped>\n",
       "    .dataframe tbody tr th:only-of-type {\n",
       "        vertical-align: middle;\n",
       "    }\n",
       "\n",
       "    .dataframe tbody tr th {\n",
       "        vertical-align: top;\n",
       "    }\n",
       "\n",
       "    .dataframe thead th {\n",
       "        text-align: right;\n",
       "    }\n",
       "</style>\n",
       "<table border=\"1\" class=\"dataframe\">\n",
       "  <thead>\n",
       "    <tr style=\"text-align: right;\">\n",
       "      <th></th>\n",
       "      <th>category_name</th>\n",
       "      <th>text_combined</th>\n",
       "    </tr>\n",
       "  </thead>\n",
       "  <tbody>\n",
       "    <tr>\n",
       "      <th>10</th>\n",
       "      <td>Sports</td>\n",
       "      <td>nfl football offense defense afc nfc american football highlight highlights game games sport sports action play plays season 2017 rookie rookies recap run sprint catch huge amazing touchdown td week 9 wk 9 new england patriots pats denver broncos lewis kickoff kick return return td special teams sp dt 2017-11-12t20 30 00-05 00 sp vl en-us sp st football sp li nfl sp ti home den sp ti away ne sp scp athlete_in_match sp ty high nfl-lewdio new england patriots returner dion lewis blasts off for an amazing kickoff return touchdown against the denver broncos in week 10 of the 2017 nfl season n nwatch full games with nfl game pass https www nfl com gamepass campaign sp-nf-gd-ot-yt-3000342 n nsign up for fantasy football http www nfl com fantasyfootball n nsubscribe to nfl http j mp 1l0bvbu n nthe nfl youtube channel is your home for immediate in-game highlights from your favorite teams and players full nfl games behind the scenes access and more n ncheck out our other channels nnfl network http www youtube com nflnetwork nnfl films http www youtube com nflfilms n nfor all things nfl visit the league s official website at http www nfl com n nwatch nfl now https www nfl com now nlisten to nfl podcasts http www nfl com podcasts nwatch the nfl network http nflnonline nfl com ndownload the nfl mobile app https www nfl com apps n2017 nfl schedule http www nfl com schedules nbuy tickets to watch your favorite team http www nfl com tickets nshop nfl http www nflshop com source bm-nflcom-header-shop-tab n nlike us on facebook https www facebook com nfl nfollow us on twitter https twitter com nfl nfollow us on instagram https instagram com nfl nfind us on snapchat dion lewis 103-yd kick return td vs denver can t-miss play nfl wk 10 highlights</td>\n",
       "    </tr>\n",
       "  </tbody>\n",
       "</table>\n",
       "</div>"
      ],
      "text/plain": [
       "   category_name  \\\n",
       "10  Sports         \n",
       "\n",
       "                                                                                                                                                                                                                                                                                                                                                                                                                                                                                                                                                                                                                                                                                                                                                                                                                                                                                                                                                                                                                                                                                                                                                                                                                                                                                                                                                                                                                                                                                                                                                                                                                                                                                                                                                                                                                   text_combined  \n",
       "10  nfl football offense defense afc nfc american football highlight highlights game games sport sports action play plays season 2017 rookie rookies recap run sprint catch huge amazing touchdown td week 9 wk 9 new england patriots pats denver broncos lewis kickoff kick return return td special teams sp dt 2017-11-12t20 30 00-05 00 sp vl en-us sp st football sp li nfl sp ti home den sp ti away ne sp scp athlete_in_match sp ty high nfl-lewdio new england patriots returner dion lewis blasts off for an amazing kickoff return touchdown against the denver broncos in week 10 of the 2017 nfl season n nwatch full games with nfl game pass https www nfl com gamepass campaign sp-nf-gd-ot-yt-3000342 n nsign up for fantasy football http www nfl com fantasyfootball n nsubscribe to nfl http j mp 1l0bvbu n nthe nfl youtube channel is your home for immediate in-game highlights from your favorite teams and players full nfl games behind the scenes access and more n ncheck out our other channels nnfl network http www youtube com nflnetwork nnfl films http www youtube com nflfilms n nfor all things nfl visit the league s official website at http www nfl com n nwatch nfl now https www nfl com now nlisten to nfl podcasts http www nfl com podcasts nwatch the nfl network http nflnonline nfl com ndownload the nfl mobile app https www nfl com apps n2017 nfl schedule http www nfl com schedules nbuy tickets to watch your favorite team http www nfl com tickets nshop nfl http www nflshop com source bm-nflcom-header-shop-tab n nlike us on facebook https www facebook com nfl nfollow us on twitter https twitter com nfl nfollow us on instagram https instagram com nfl nfind us on snapchat dion lewis 103-yd kick return td vs denver can t-miss play nfl wk 10 highlights  "
      ]
     },
     "execution_count": 13,
     "metadata": {},
     "output_type": "execute_result"
    }
   ],
   "source": [
    "df.head(1)"
   ]
  },
  {
   "cell_type": "markdown",
   "metadata": {},
   "source": [
    "#### Existen muchas palabras o digitos que no aportan informacion a nuestro modelo\n",
    "Crearemos una funcion que transforme las palabras existente `Lematization` "
   ]
  },
  {
   "cell_type": "code",
   "execution_count": 14,
   "metadata": {},
   "outputs": [],
   "source": [
    "stopwords = set(STOPWORDS)\n",
    "stopwords.update(['follow', 'twitter', 'social', 'instagram', 'subscribe', 'snapchat', 'youtube', 'videos', 'video'\\\n",
    "                  ,'channel', 'share', 'facebook', 'comment', 'like', 'take', 'go', 'got', 'back',\\\n",
    "                  'much', 'made', 'keep', 'watch','none', 'check', 'will', 'make', 'https',\\\n",
    "                  'nfollow', 'ntwitter', 'nsocial', 'ninstagram', 'nhttp', 'nfacebook',\\\n",
    "                  'n', 'nhttps', 'tumblr', 'e', 'youtube', 'netflix', 'bit', 'ly',\\\n",
    "                  'nwatch', 'goo', 'gl', 'amzn', 'nnbc', 'nbc', 'youtu', 'nlike',\\\n",
    "                  'google', 'plus', 'nclick', 'nbctv', 'c', 's', 'nsubscribe', 'iphone',\\\n",
    "                  'pl7u4lwxq3wfi_7pgx0c-vtiwleu0s4v34', '2018', 'nlearn'])"
   ]
  },
  {
   "cell_type": "code",
   "execution_count": 15,
   "metadata": {},
   "outputs": [],
   "source": [
    "def preprocessing(text):\n",
    "    stemmer = PorterStemmer()\n",
    "    processed_text = ''\n",
    "    for word in text.split():\n",
    "        if not word.isalpha() or len(word) < 3:\n",
    "            continue\n",
    "        elif not word in stopwords:\n",
    "            processed_text += stemmer.stem(word) + \" \"\n",
    "\n",
    "    return processed_text"
   ]
  },
  {
   "cell_type": "code",
   "execution_count": 16,
   "metadata": {},
   "outputs": [],
   "source": [
    "test = \"\"\"\n",
    "nfl football offense defense afc nfc american football highlight highlights game games \n",
    "sport sports action play plays season 2017 rookie rookies recap run sprint catch huge \n",
    "amazing touchdown td week 9 wk 9 new england patriots pats denver broncos lewis kickoff \n",
    "kick return return td special teams sp dt 2017-11-12t20 30 00-05 00 sp vl en-us sp st \n",
    "football sp li nfl sp ti home den sp ti away ne sp scp athlete_in_match sp ty high \n",
    "nfl-lewdio new england patriots returner dion lewis blasts off for an amazing kickoff \n",
    "return touchdown against the denver broncos in week 10 of the 2017 nfl season n nwatch \n",
    "full games with nfl game pass https www nfl com gamepass campaign sp-nf-gd-ot-yt-3000342 \n",
    "n nsign up for fantasy football http www nfl com fantasyfootball n nsubscribe to nfl http \n",
    "j mp 1l0bvbu n nthe nfl youtube channel is your home for immediate in-game highlights \n",
    "from your favorite teams and players full nfl games behind the scenes access and more n \n",
    "ncheck out our other channels nnfl network http www youtube com nflnetwork nnfl films http \n",
    "www youtube com nflfilms n nfor all things nfl visit the league s official website at http \n",
    "www nfl com n nwatch nfl now https www nfl com now nlisten to nfl podcasts http www nfl com \n",
    "podcasts nwatch the nfl network http nflnonline nfl com ndownload the nfl mobile app https \n",
    "www nfl com apps n2017 nfl schedule http www nfl com schedules nbuy tickets to watch your \n",
    "favorite team http www nfl com tickets nshop nfl http www nflshop com source \n",
    "bm-nflcom-header-shop-tab n nlike us on facebook https www facebook com nfl nfollow us on \n",
    "twitter https twitter com nfl nfollow us on instagram https instagram com nfl nfind us on \n",
    "snapchat dion lewis 103-yd kick return td vs denver can t-miss play nfl wk 10 highlights\n",
    "\"\"\""
   ]
  },
  {
   "cell_type": "code",
   "execution_count": 17,
   "metadata": {},
   "outputs": [
    {
     "data": {
      "text/plain": [
       "'nfl footbal offens defens afc nfc american footbal highlight highlight game game sport sport action play play season rooki rooki recap run sprint catch huge amaz touchdown week new england patriot pat denver bronco lewi kickoff kick return return special team footbal nfl home den away scp high new england patriot return dion lewi blast amaz kickoff return touchdown denver bronco week nfl season full game nfl game pass nfl gamepass campaign nsign fantasi footbal nfl fantasyfootbal nfl nthe nfl home immedi highlight favorit team player full nfl game behind scene access ncheck channel nnfl network nflnetwork nnfl film nflfilm nfor thing nfl visit leagu offici websit nfl nfl now nfl now nlisten nfl podcast nfl podcast nfl network nflnonlin nfl ndownload nfl mobil app nfl app nfl schedul nfl schedul nbuy ticket favorit team nfl ticket nshop nfl nflshop sourc nfl nfl nfl nfind dion lewi kick return denver play nfl highlight '"
      ]
     },
     "execution_count": 17,
     "metadata": {},
     "output_type": "execute_result"
    }
   ],
   "source": [
    "preprocessing(test)"
   ]
  },
  {
   "cell_type": "markdown",
   "metadata": {},
   "source": [
    "Aplicamos la funcion creada sobre nuestra columna `text_combined`"
   ]
  },
  {
   "cell_type": "code",
   "execution_count": 18,
   "metadata": {},
   "outputs": [],
   "source": [
    "df['text_combined'] = df['text_combined'].apply(preprocessing)"
   ]
  },
  {
   "cell_type": "markdown",
   "metadata": {},
   "source": [
    "Es momento de analizar el balance de nuestro datos por categoria"
   ]
  },
  {
   "cell_type": "code",
   "execution_count": 19,
   "metadata": {},
   "outputs": [
    {
     "data": {
      "text/html": [
       "<div>\n",
       "<style scoped>\n",
       "    .dataframe tbody tr th:only-of-type {\n",
       "        vertical-align: middle;\n",
       "    }\n",
       "\n",
       "    .dataframe tbody tr th {\n",
       "        vertical-align: top;\n",
       "    }\n",
       "\n",
       "    .dataframe thead th {\n",
       "        text-align: right;\n",
       "    }\n",
       "</style>\n",
       "<table border=\"1\" class=\"dataframe\">\n",
       "  <thead>\n",
       "    <tr style=\"text-align: right;\">\n",
       "      <th></th>\n",
       "      <th>category_name</th>\n",
       "    </tr>\n",
       "  </thead>\n",
       "  <tbody>\n",
       "    <tr>\n",
       "      <th>Entertainment</th>\n",
       "      <td>1621</td>\n",
       "    </tr>\n",
       "    <tr>\n",
       "      <th>Music</th>\n",
       "      <td>801</td>\n",
       "    </tr>\n",
       "    <tr>\n",
       "      <th>Howto &amp; Style</th>\n",
       "      <td>594</td>\n",
       "    </tr>\n",
       "    <tr>\n",
       "      <th>Comedy</th>\n",
       "      <td>544</td>\n",
       "    </tr>\n",
       "    <tr>\n",
       "      <th>News &amp; Politics</th>\n",
       "      <td>504</td>\n",
       "    </tr>\n",
       "    <tr>\n",
       "      <th>People &amp; Blogs</th>\n",
       "      <td>495</td>\n",
       "    </tr>\n",
       "    <tr>\n",
       "      <th>Sports</th>\n",
       "      <td>449</td>\n",
       "    </tr>\n",
       "    <tr>\n",
       "      <th>Science &amp; Technology</th>\n",
       "      <td>381</td>\n",
       "    </tr>\n",
       "    <tr>\n",
       "      <th>Film &amp; Animation</th>\n",
       "      <td>320</td>\n",
       "    </tr>\n",
       "    <tr>\n",
       "      <th>Education</th>\n",
       "      <td>251</td>\n",
       "    </tr>\n",
       "    <tr>\n",
       "      <th>Pets &amp; Animals</th>\n",
       "      <td>140</td>\n",
       "    </tr>\n",
       "    <tr>\n",
       "      <th>Gaming</th>\n",
       "      <td>103</td>\n",
       "    </tr>\n",
       "    <tr>\n",
       "      <th>Autos &amp; Vehicles</th>\n",
       "      <td>71</td>\n",
       "    </tr>\n",
       "    <tr>\n",
       "      <th>Travel &amp; Events</th>\n",
       "      <td>59</td>\n",
       "    </tr>\n",
       "    <tr>\n",
       "      <th>Nonprofits &amp; Activism</th>\n",
       "      <td>14</td>\n",
       "    </tr>\n",
       "    <tr>\n",
       "      <th>Shows</th>\n",
       "      <td>4</td>\n",
       "    </tr>\n",
       "  </tbody>\n",
       "</table>\n",
       "</div>"
      ],
      "text/plain": [
       "                       category_name\n",
       "Entertainment          1621         \n",
       "Music                  801          \n",
       "Howto & Style          594          \n",
       "Comedy                 544          \n",
       "News & Politics        504          \n",
       "People & Blogs         495          \n",
       "Sports                 449          \n",
       "Science & Technology   381          \n",
       "Film & Animation       320          \n",
       "Education              251          \n",
       "Pets & Animals         140          \n",
       "Gaming                 103          \n",
       "Autos & Vehicles       71           \n",
       "Travel & Events        59           \n",
       "Nonprofits & Activism  14           \n",
       "Shows                  4            "
      ]
     },
     "execution_count": 19,
     "metadata": {},
     "output_type": "execute_result"
    }
   ],
   "source": [
    "df['category_name'].value_counts().to_frame()"
   ]
  },
  {
   "cell_type": "markdown",
   "metadata": {},
   "source": [
    "Tomaremos las 8 primeras categorias"
   ]
  },
  {
   "cell_type": "code",
   "execution_count": 20,
   "metadata": {},
   "outputs": [],
   "source": [
    "categories_selected = ['Entertainment', 'Music', 'Howto & Style', 'Comedy',\\\n",
    "            'News & Politics', 'People & Blogs', 'Sports', 'Science & Technology']\n",
    "\n",
    "df2 = df.apply(lambda r: r if r['category_name'] in categories_selected else np.NaN, axis=1)"
   ]
  },
  {
   "cell_type": "code",
   "execution_count": 21,
   "metadata": {},
   "outputs": [
    {
     "data": {
      "text/html": [
       "<div>\n",
       "<style scoped>\n",
       "    .dataframe tbody tr th:only-of-type {\n",
       "        vertical-align: middle;\n",
       "    }\n",
       "\n",
       "    .dataframe tbody tr th {\n",
       "        vertical-align: top;\n",
       "    }\n",
       "\n",
       "    .dataframe thead th {\n",
       "        text-align: right;\n",
       "    }\n",
       "</style>\n",
       "<table border=\"1\" class=\"dataframe\">\n",
       "  <thead>\n",
       "    <tr style=\"text-align: right;\">\n",
       "      <th></th>\n",
       "      <th>category_name</th>\n",
       "      <th>text_combined</th>\n",
       "    </tr>\n",
       "  </thead>\n",
       "  <tbody>\n",
       "    <tr>\n",
       "      <th>10</th>\n",
       "      <td>Sports</td>\n",
       "      <td>nfl footbal offens defens afc nfc american footbal highlight highlight game game sport sport action play play season rooki rooki recap run sprint catch huge amaz touchdown week new england patriot pat denver bronco lewi kickoff kick return return special team footbal nfl home den away scp high new england patriot return dion lewi blast amaz kickoff return touchdown denver bronco week nfl season full game nfl game pass nfl gamepass campaign nsign fantasi footbal nfl fantasyfootbal nfl nthe nfl home immedi highlight favorit team player full nfl game behind scene access ncheck channel nnfl network nflnetwork nnfl film nflfilm nfor thing nfl visit leagu offici websit nfl nfl now nfl now nlisten nfl podcast nfl podcast nfl network nflnonlin nfl ndownload nfl mobil app nfl app nfl schedul nfl schedul nbuy ticket favorit team nfl ticket nshop nfl nflshop sourc nfl nfl nfl nfind dion lewi kick return denver play nfl highlight</td>\n",
       "    </tr>\n",
       "    <tr>\n",
       "      <th>41</th>\n",
       "      <td>News &amp; Politics</td>\n",
       "      <td>bbc bbc news news iran iran news iraq iraq news earthquak break news earthquak strong earthquak rattl northern border region kill least peopl nthe quak struck even local time south iraqi town halabja depth mile geolog survey usg said nat least six peopl die western iran state media said anoth four report dead iraq npleas nworld pictur playlist list nbig hitter playlist list njust good news playlist list earthquak deadli tremor hit border region bbc news</td>\n",
       "    </tr>\n",
       "    <tr>\n",
       "      <th>55</th>\n",
       "      <td>Entertainment</td>\n",
       "      <td>graham norton graham norton show offici entertain chat show graham norton full episod graham norton show full ep graham norton full ep graham norton onlin jason momoa hugh grant sarah millican kelli clarkson graham norton red chair game throne think sarah millican excit weekli updat officialgrahamnorton jason momoa wow hugh grant dothraki graham norton show</td>\n",
       "    </tr>\n",
       "    <tr>\n",
       "      <th>76</th>\n",
       "      <td>Science &amp; Technology</td>\n",
       "      <td>mayo clinic health care issu healthcar scienc field studi organ transplant essam dalal obaid center reconstruct transplant surgeri face transplant plastic surgeri reconstruct surgeri one half year surgeri transform life andi sand meet widow donor mayo clinic first face transplant patient meet famili</td>\n",
       "    </tr>\n",
       "    <tr>\n",
       "      <th>78</th>\n",
       "      <td>Entertainment</td>\n",
       "      <td>jame corden late late show colbert late night late night show stephen colbert comedi monologu comedian impress celebr carpool karaok cb late late show corden joke joke funni funni funni humor celebr celeb hollywood famou jame congratul jason momoa recent marri lisa bonnet learn pair start enjoy guin grit never look nmore late late show cordenyoutub full episod latelategram late late show jame corden weeknight cb nget new episod show love across devic next day stream live full season cb fan favorit anytim anywher cb access tri free neach week night late late show jame corden throw ultim late night parti mix celebr guest edgi music act game sketch corden differenti show offer viewer peek green room bring guest lend music act talent variou sketch addit bandlead reggi watt hous band provid origin improvis music throughout show corden took reign host march quickli becom known gener buzzworthi viral carpool karaok jason momoa lisa bonet love first sight</td>\n",
       "    </tr>\n",
       "    <tr>\n",
       "      <th>...</th>\n",
       "      <td>...</td>\n",
       "      <td>...</td>\n",
       "    </tr>\n",
       "    <tr>\n",
       "      <th>40941</th>\n",
       "      <td>Music</td>\n",
       "      <td>wed heartfelt wed emot wed celebr wed summer wed speechless dan shay dan shay husband wife outsid wed groomsmen bridesmaid dan smyer shay mooney countri music countri duo tequila ground dan shay speechless dan shay album dan smyer wed shay mooney wed stream download wmna speechlesshttp wmna dstequilahttp wmna album wmna dsthealbummus dan warner music nashvil llc dan shay speechless wed</td>\n",
       "    </tr>\n",
       "    <tr>\n",
       "      <th>40942</th>\n",
       "      <td>Music</td>\n",
       "      <td>fifth hamoni harmon lauren alli normani camila fifth harmoni full album work home like worth head halsey gucci mane dolla ign factor simon cowel syco don say love fifth harmoni pop syco music epic fifth harmoni avail itun smarturl fifthharmonya itunesappl music smarturl fifthharmonya applemusicspotifi smarturl fifthharmonya spotifygoogl play smarturl fifthharmonya googleplayamazon smarturl fifthharmonya amazonmusicbuydeez smarturl fifthharmonya deezersoundcloud smarturl fifthharmonya soundcloudtid smarturl fifthharmonya smarturl fifthharmonya officialstorebuytarget smarturl fifthharmonya targetwalmart smarturl fifthharmonya walmartfy smarturl fifthharmonya fyebest buy smarturl fifthharmonya bestbuyfifth harmoni onlinehttp fifthharmoni fifthharmonyhttp fifthharmonyhttp fifthharmoni simco ltd exclus licens epic record divis soni music entertain fifth harmoni don say love</td>\n",
       "    </tr>\n",
       "    <tr>\n",
       "      <th>40943</th>\n",
       "      <td>People &amp; Blogs</td>\n",
       "      <td>buzzfe buzzfeedvideo puppi interview puppi john lennon question bt korean korean music korean pop music fashion buzzfeedceleb armi song music new album funni cute puppi cute puppi play puppi anim cute anim celebr boyband bt pp puppi ador puppi provid vanderpump dog foundat vanderpumpdog org bt buzzfe christianzamora credit buzzfe bfmp buzzfe buzzfe comhttp buzzfe videoshttp buzzfeedvideohttp asishttp buzzfeedbluehttp buzzfeedviolethttp perolikehttp ladylikebuzzfe celebshort funni origin buzzfe crew thing buzzfeedvideo pop harder musiclicens via audio networksfx provid audioblock audioblock extern credit vanderpump dog foundat vanderpumpdog org bt play puppi answer fan question</td>\n",
       "    </tr>\n",
       "    <tr>\n",
       "      <th>40945</th>\n",
       "      <td>People &amp; Blogs</td>\n",
       "      <td>empti true fact ant mutual</td>\n",
       "    </tr>\n",
       "    <tr>\n",
       "      <th>40946</th>\n",
       "      <td>Entertainment</td>\n",
       "      <td>gave safiya nygaard perfect hair makeov base featur bt brad mondo safiya tyler safiya nygaard hair transform makeov perfect makeov base featur bt hairdress react hair makeup transform antm wear ideal haircut color face safiya buzzfe color skin tone haircut face shape tutori balayag hair stylist hair color hair tutori fun transform safiya hair serv major lewk safiya limit edit let bff bradmondonyc bradmondonycfacebook bradmondonyc wanna see face qjhdauwanna see last equip umbrella intro mine forget live extra life gave safiya nygaard perfect hair makeov base featur bt bradmondo</td>\n",
       "    </tr>\n",
       "  </tbody>\n",
       "</table>\n",
       "<p>5389 rows × 2 columns</p>\n",
       "</div>"
      ],
      "text/plain": [
       "              category_name  \\\n",
       "10     Sports                 \n",
       "41     News & Politics        \n",
       "55     Entertainment          \n",
       "76     Science & Technology   \n",
       "78     Entertainment          \n",
       "...              ...          \n",
       "40941  Music                  \n",
       "40942  Music                  \n",
       "40943  People & Blogs         \n",
       "40945  People & Blogs         \n",
       "40946  Entertainment          \n",
       "\n",
       "                                                                                                                                                                                                                                                                                                                                                                                                                                                                                                                                                                                                                                                                                                                                                                                                                                                                                                                                                                                            text_combined  \n",
       "10     nfl footbal offens defens afc nfc american footbal highlight highlight game game sport sport action play play season rooki rooki recap run sprint catch huge amaz touchdown week new england patriot pat denver bronco lewi kickoff kick return return special team footbal nfl home den away scp high new england patriot return dion lewi blast amaz kickoff return touchdown denver bronco week nfl season full game nfl game pass nfl gamepass campaign nsign fantasi footbal nfl fantasyfootbal nfl nthe nfl home immedi highlight favorit team player full nfl game behind scene access ncheck channel nnfl network nflnetwork nnfl film nflfilm nfor thing nfl visit leagu offici websit nfl nfl now nfl now nlisten nfl podcast nfl podcast nfl network nflnonlin nfl ndownload nfl mobil app nfl app nfl schedul nfl schedul nbuy ticket favorit team nfl ticket nshop nfl nflshop sourc nfl nfl nfl nfind dion lewi kick return denver play nfl highlight                                 \n",
       "41     bbc bbc news news iran iran news iraq iraq news earthquak break news earthquak strong earthquak rattl northern border region kill least peopl nthe quak struck even local time south iraqi town halabja depth mile geolog survey usg said nat least six peopl die western iran state media said anoth four report dead iraq npleas nworld pictur playlist list nbig hitter playlist list njust good news playlist list earthquak deadli tremor hit border region bbc news                                                                                                                                                                                                                                                                                                                                                                                                                                                                                                                           \n",
       "55     graham norton graham norton show offici entertain chat show graham norton full episod graham norton show full ep graham norton full ep graham norton onlin jason momoa hugh grant sarah millican kelli clarkson graham norton red chair game throne think sarah millican excit weekli updat officialgrahamnorton jason momoa wow hugh grant dothraki graham norton show                                                                                                                                                                                                                                                                                                                                                                                                                                                                                                                                                                                                                             \n",
       "76     mayo clinic health care issu healthcar scienc field studi organ transplant essam dalal obaid center reconstruct transplant surgeri face transplant plastic surgeri reconstruct surgeri one half year surgeri transform life andi sand meet widow donor mayo clinic first face transplant patient meet famili                                                                                                                                                                                                                                                                                                                                                                                                                                                                                                                                                                                                                                                                                        \n",
       "78     jame corden late late show colbert late night late night show stephen colbert comedi monologu comedian impress celebr carpool karaok cb late late show corden joke joke funni funni funni humor celebr celeb hollywood famou jame congratul jason momoa recent marri lisa bonnet learn pair start enjoy guin grit never look nmore late late show cordenyoutub full episod latelategram late late show jame corden weeknight cb nget new episod show love across devic next day stream live full season cb fan favorit anytim anywher cb access tri free neach week night late late show jame corden throw ultim late night parti mix celebr guest edgi music act game sketch corden differenti show offer viewer peek green room bring guest lend music act talent variou sketch addit bandlead reggi watt hous band provid origin improvis music throughout show corden took reign host march quickli becom known gener buzzworthi viral carpool karaok jason momoa lisa bonet love first sight   \n",
       "...                                                                                                                                                                                                                                                                                                                                                                                                                                                                                                                                                                                                                                                                                                                                                                                                                                                                                                                                                                                                   ...  \n",
       "40941  wed heartfelt wed emot wed celebr wed summer wed speechless dan shay dan shay husband wife outsid wed groomsmen bridesmaid dan smyer shay mooney countri music countri duo tequila ground dan shay speechless dan shay album dan smyer wed shay mooney wed stream download wmna speechlesshttp wmna dstequilahttp wmna album wmna dsthealbummus dan warner music nashvil llc dan shay speechless wed                                                                                                                                                                                                                                                                                                                                                                                                                                                                                                                                                                                                \n",
       "40942  fifth hamoni harmon lauren alli normani camila fifth harmoni full album work home like worth head halsey gucci mane dolla ign factor simon cowel syco don say love fifth harmoni pop syco music epic fifth harmoni avail itun smarturl fifthharmonya itunesappl music smarturl fifthharmonya applemusicspotifi smarturl fifthharmonya spotifygoogl play smarturl fifthharmonya googleplayamazon smarturl fifthharmonya amazonmusicbuydeez smarturl fifthharmonya deezersoundcloud smarturl fifthharmonya soundcloudtid smarturl fifthharmonya smarturl fifthharmonya officialstorebuytarget smarturl fifthharmonya targetwalmart smarturl fifthharmonya walmartfy smarturl fifthharmonya fyebest buy smarturl fifthharmonya bestbuyfifth harmoni onlinehttp fifthharmoni fifthharmonyhttp fifthharmonyhttp fifthharmoni simco ltd exclus licens epic record divis soni music entertain fifth harmoni don say love                                                                                   \n",
       "40943  buzzfe buzzfeedvideo puppi interview puppi john lennon question bt korean korean music korean pop music fashion buzzfeedceleb armi song music new album funni cute puppi cute puppi play puppi anim cute anim celebr boyband bt pp puppi ador puppi provid vanderpump dog foundat vanderpumpdog org bt buzzfe christianzamora credit buzzfe bfmp buzzfe buzzfe comhttp buzzfe videoshttp buzzfeedvideohttp asishttp buzzfeedbluehttp buzzfeedviolethttp perolikehttp ladylikebuzzfe celebshort funni origin buzzfe crew thing buzzfeedvideo pop harder musiclicens via audio networksfx provid audioblock audioblock extern credit vanderpump dog foundat vanderpumpdog org bt play puppi answer fan question                                                                                                                                                                                                                                                                                       \n",
       "40945  empti true fact ant mutual                                                                                                                                                                                                                                                                                                                                                                                                                                                                                                                                                                                                                                                                                                                                                                                                                                                                                                                                                                          \n",
       "40946  gave safiya nygaard perfect hair makeov base featur bt brad mondo safiya tyler safiya nygaard hair transform makeov perfect makeov base featur bt hairdress react hair makeup transform antm wear ideal haircut color face safiya buzzfe color skin tone haircut face shape tutori balayag hair stylist hair color hair tutori fun transform safiya hair serv major lewk safiya limit edit let bff bradmondonyc bradmondonycfacebook bradmondonyc wanna see face qjhdauwanna see last equip umbrella intro mine forget live extra life gave safiya nygaard perfect hair makeov base featur bt bradmondo                                                                                                                                                                                                                                                                                                                                                                                             \n",
       "\n",
       "[5389 rows x 2 columns]"
      ]
     },
     "execution_count": 21,
     "metadata": {},
     "output_type": "execute_result"
    }
   ],
   "source": [
    "df2.dropna(axis=0, inplace=True)\n",
    "df2"
   ]
  },
  {
   "cell_type": "markdown",
   "metadata": {},
   "source": [
    "## Separacion de datos de entrenamiento y prueba"
   ]
  },
  {
   "cell_type": "code",
   "execution_count": 22,
   "metadata": {},
   "outputs": [],
   "source": [
    "X = df2['text_combined']\n",
    "y = df2['category_name']"
   ]
  },
  {
   "cell_type": "code",
   "execution_count": 23,
   "metadata": {},
   "outputs": [],
   "source": [
    "X_train, X_test, y_train, y_test = train_test_split(X,y,test_size=0.3, random_state=42)"
   ]
  },
  {
   "cell_type": "markdown",
   "metadata": {},
   "source": [
    "***Bag of Words Model***: es un método que se utiliza en el procesado del lenguaje para representar documentos ignorando el orden de las palabras. En este modelo, cada documento parece una bolsa que contiene algunas palabras."
   ]
  },
  {
   "cell_type": "code",
   "execution_count": 24,
   "metadata": {},
   "outputs": [],
   "source": [
    "# Applying bag of words to features in training and testing data\n",
    "bow = CountVectorizer()\n",
    "X_train_bow = bow.fit_transform(X_train)\n",
    "X_test_bow = bow.transform(X_test)"
   ]
  },
  {
   "cell_type": "code",
   "execution_count": 25,
   "metadata": {},
   "outputs": [
    {
     "data": {
      "text/html": [
       "<div>\n",
       "<style scoped>\n",
       "    .dataframe tbody tr th:only-of-type {\n",
       "        vertical-align: middle;\n",
       "    }\n",
       "\n",
       "    .dataframe tbody tr th {\n",
       "        vertical-align: top;\n",
       "    }\n",
       "\n",
       "    .dataframe thead th {\n",
       "        text-align: right;\n",
       "    }\n",
       "</style>\n",
       "<table border=\"1\" class=\"dataframe\">\n",
       "  <thead>\n",
       "    <tr style=\"text-align: right;\">\n",
       "      <th></th>\n",
       "      <th>0</th>\n",
       "    </tr>\n",
       "  </thead>\n",
       "  <tbody>\n",
       "    <tr>\n",
       "      <th>0</th>\n",
       "      <td>(0, 10592)\\t5\\n  (0, 10699)\\t6\\n  (0, 10591)\\t1\\n  (0, 10709)\\t2\\n  (0, 16999)\\t2\\n  (0, 9266)\\t1\\n  (0, 4842)\\t1\\n  (0, 4384)\\t6\\n  (0, 28218)\\t5\\n  (0, 17017)\\t7\\n  (0, 15824)\\t12\\n  (0, 28426)\\t14\\n  (0, 28653)\\t8\\n  (0, 30408)\\t13\\n  (0, 8903)\\t4\\n  (0, 4066)\\t1\\n  (0, 29288)\\t1\\n  (0, 25892)\\t1\\n  (0, 21767)\\t1\\n  (0, 29208)\\t1\\n  (0, 11918)\\t1\\n  (0, 10994)\\t1\\n  (0, 24589)\\t1\\n  (0, 18480)\\t1\\n  (0, 11532)\\t1\\n  (0, 21189)\\t1\\n  (0, 29675)\\t1\\n  (0, 31461)\\t1\\n  (0, 29138)\\t1\\n  (0, 19630)\\t1\\n  (0, 18899)\\t1\\n  (0, 20901)\\t1\\n  (0, 10710)\\t1\\n  (0, 21336)\\t1\\n  (0, 21320)\\t1\\n  (0, 16995)\\t1\\n  (0, 10593)\\t1</td>\n",
       "    </tr>\n",
       "    <tr>\n",
       "      <th>1</th>\n",
       "      <td>(0, 28653)\\t1\\n  (0, 4066)\\t1\\n  (0, 29288)\\t2\\n  (0, 29138)\\t1\\n  (0, 3739)\\t3\\n  (0, 3432)\\t2\\n  (0, 7070)\\t3\\n  (0, 15118)\\t6\\n  (0, 15532)\\t7\\n  (0, 29584)\\t7\\n  (0, 18488)\\t3\\n  (0, 23644)\\t3\\n  (0, 5164)\\t1\\n  (0, 26668)\\t5\\n  (0, 3723)\\t4\\n  (0, 25149)\\t2\\n  (0, 29119)\\t1\\n  (0, 23321)\\t1\\n  (0, 11565)\\t1\\n  (0, 26441)\\t1\\n  (0, 21971)\\t1\\n  (0, 29075)\\t1\\n  (0, 8668)\\t1\\n  (0, 11862)\\t1\\n  (0, 24694)\\t1\\n  :\\t:\\n  (0, 20371)\\t1\\n  (0, 2861)\\t1\\n  (0, 17663)\\t1\\n  (0, 3740)\\t1\\n  (0, 18170)\\t1\\n  (0, 27293)\\t1\\n  (0, 22317)\\t1\\n  (0, 30972)\\t1\\n  (0, 26159)\\t1\\n  (0, 8948)\\t1\\n  (0, 5432)\\t1\\n  (0, 22046)\\t1\\n  (0, 11285)\\t1\\n  (0, 671)\\t1\\n  (0, 14500)\\t3\\n  (0, 15671)\\t1\\n  (0, 290)\\t1\\n  (0, 15815)\\t1\\n  (0, 26806)\\t1\\n  (0, 4894)\\t1\\n  (0, 23837)\\t1\\n  (0, 12282)\\t1\\n  (0, 28690)\\t1\\n  (0, 28069)\\t1\\n  (0, 31667)\\t1</td>\n",
       "    </tr>\n",
       "    <tr>\n",
       "      <th>2</th>\n",
       "      <td>(0, 10994)\\t1\\n  (0, 31461)\\t1\\n  (0, 28690)\\t1\\n  (0, 25260)\\t3\\n  (0, 6973)\\t5\\n  (0, 24002)\\t4\\n  (0, 23943)\\t2\\n  (0, 14339)\\t1\\n  (0, 27449)\\t4\\n  (0, 25858)\\t2\\n  (0, 7803)\\t3\\n  (0, 26011)\\t1\\n  (0, 26370)\\t2\\n  (0, 4928)\\t1\\n  (0, 23540)\\t2\\n  (0, 28514)\\t1\\n  (0, 3861)\\t1\\n  (0, 411)\\t1\\n  (0, 29625)\\t1\\n  (0, 15600)\\t1\\n  (0, 26144)\\t1\\n  (0, 29018)\\t1\\n  (0, 29014)\\t1\\n  (0, 4237)\\t2\\n  (0, 6410)\\t1\\n  (0, 13346)\\t1\\n  (0, 5979)\\t1\\n  (0, 2015)\\t1\\n  (0, 31960)\\t1\\n  (0, 2154)\\t1\\n  (0, 16238)\\t1\\n  (0, 2144)\\t1\\n  (0, 16671)\\t1\\n  (0, 15791)\\t1\\n  (0, 30923)\\t1\\n  (0, 24818)\\t1\\n  (0, 31511)\\t1\\n  (0, 26197)\\t1\\n  (0, 26196)\\t1</td>\n",
       "    </tr>\n",
       "    <tr>\n",
       "      <th>3</th>\n",
       "      <td>(0, 21320)\\t1\\n  (0, 28010)\\t1\\n  (0, 15505)\\t8\\n  (0, 4868)\\t2\\n  (0, 2758)\\t1\\n  (0, 18401)\\t1\\n  (0, 9538)\\t1\\n  (0, 28029)\\t1\\n  (0, 10974)\\t2\\n  (0, 30917)\\t3\\n  (0, 27782)\\t2\\n  (0, 4460)\\t1\\n  (0, 30100)\\t1\\n  (0, 22588)\\t1\\n  (0, 25212)\\t1\\n  (0, 7981)\\t1\\n  (0, 14444)\\t1\\n  (0, 16106)\\t1\\n  (0, 6934)\\t1\\n  (0, 24274)\\t1\\n  (0, 166)\\t1\\n  (0, 26633)\\t1\\n  (0, 29492)\\t2\\n  (0, 28715)\\t1\\n  (0, 12992)\\t1\\n  (0, 7985)\\t1\\n  (0, 18507)\\t1\\n  (0, 27507)\\t1\\n  (0, 29752)\\t1\\n  (0, 18812)\\t1\\n  (0, 21821)\\t1</td>\n",
       "    </tr>\n",
       "    <tr>\n",
       "      <th>4</th>\n",
       "      <td>(0, 9266)\\t1\\n  (0, 28653)\\t1\\n  (0, 15118)\\t2\\n  (0, 26668)\\t1\\n  (0, 23144)\\t1\\n  (0, 19797)\\t1\\n  (0, 5664)\\t2\\n  (0, 28010)\\t1\\n  (0, 9093)\\t1\\n  (0, 27293)\\t1\\n  (0, 28069)\\t2\\n  (0, 7366)\\t1\\n  (0, 7467)\\t1\\n  (0, 7472)\\t7\\n  (0, 7477)\\t1\\n  (0, 7706)\\t1\\n  (0, 7748)\\t1\\n  (0, 7818)\\t1\\n  (0, 15887)\\t3\\n  (0, 25348)\\t3\\n  (0, 1068)\\t1\\n  (0, 16367)\\t1\\n  (0, 22940)\\t1\\n  (0, 25742)\\t1\\n  (0, 29364)\\t2\\n  :\\t:\\n  (0, 25763)\\t1\\n  (0, 28080)\\t1\\n  (0, 24467)\\t1\\n  (0, 11479)\\t1\\n  (0, 15352)\\t1\\n  (0, 30965)\\t1\\n  (0, 9771)\\t1\\n  (0, 30966)\\t1\\n  (0, 4469)\\t1\\n  (0, 23722)\\t1\\n  (0, 7908)\\t1\\n  (0, 13847)\\t1\\n  (0, 22578)\\t2\\n  (0, 17533)\\t1\\n  (0, 8123)\\t1\\n  (0, 17120)\\t1\\n  (0, 18383)\\t1\\n  (0, 3004)\\t1\\n  (0, 14197)\\t1\\n  (0, 20193)\\t1\\n  (0, 30238)\\t1\\n  (0, 1909)\\t1\\n  (0, 18697)\\t1\\n  (0, 17553)\\t1\\n  (0, 8085)\\t1</td>\n",
       "    </tr>\n",
       "    <tr>\n",
       "      <th>...</th>\n",
       "      <td>...</td>\n",
       "    </tr>\n",
       "    <tr>\n",
       "      <th>3767</th>\n",
       "      <td>(0, 7985)\\t1\\n  (0, 18507)\\t1\\n  (0, 29771)\\t1\\n  (0, 8265)\\t1\\n  (0, 6487)\\t1\\n  (0, 14161)\\t1\\n  (0, 4243)\\t1\\n  (0, 25572)\\t1\\n  (0, 6044)\\t1\\n  (0, 3942)\\t1\\n  (0, 26564)\\t1\\n  (0, 6278)\\t1\\n  (0, 7367)\\t2\\n  (0, 115)\\t1\\n  (0, 17370)\\t1\\n  (0, 6400)\\t1\\n  (0, 28600)\\t1</td>\n",
       "    </tr>\n",
       "    <tr>\n",
       "      <th>3768</th>\n",
       "      <td>(0, 10994)\\t1\\n  (0, 18488)\\t1\\n  (0, 10393)\\t1\\n  (0, 30972)\\t1\\n  (0, 28690)\\t1\\n  (0, 7803)\\t1\\n  (0, 21821)\\t1\\n  (0, 7467)\\t2\\n  (0, 26321)\\t2\\n  (0, 21986)\\t1\\n  (0, 4887)\\t1\\n  (0, 4839)\\t1\\n  (0, 9392)\\t2\\n  (0, 8417)\\t1\\n  (0, 29734)\\t1\\n  (0, 27800)\\t1\\n  (0, 8594)\\t1\\n  (0, 23125)\\t1\\n  (0, 21173)\\t1\\n  (0, 2332)\\t1\\n  (0, 11495)\\t1\\n  (0, 11670)\\t1\\n  (0, 3539)\\t1\\n  (0, 23371)\\t1\\n  (0, 27791)\\t1\\n  :\\t:\\n  (0, 28525)\\t2\\n  (0, 6503)\\t2\\n  (0, 10582)\\t1\\n  (0, 6783)\\t1\\n  (0, 908)\\t1\\n  (0, 27019)\\t1\\n  (0, 23222)\\t1\\n  (0, 24947)\\t1\\n  (0, 8660)\\t1\\n  (0, 19785)\\t1\\n  (0, 22964)\\t1\\n  (0, 8406)\\t1\\n  (0, 26315)\\t1\\n  (0, 27006)\\t1\\n  (0, 23746)\\t1\\n  (0, 8004)\\t1\\n  (0, 31620)\\t1\\n  (0, 26529)\\t3\\n  (0, 7983)\\t1\\n  (0, 14134)\\t1\\n  (0, 9533)\\t1\\n  (0, 11857)\\t1\\n  (0, 17022)\\t1\\n  (0, 11858)\\t1\\n  (0, 30088)\\t1</td>\n",
       "    </tr>\n",
       "    <tr>\n",
       "      <th>3769</th>\n",
       "      <td>(0, 2015)\\t2\\n  (0, 21821)\\t2\\n  (0, 20234)\\t1\\n  (0, 9757)\\t5\\n  (0, 8364)\\t1\\n  (0, 27040)\\t1\\n  (0, 8009)\\t1\\n  (0, 18441)\\t1\\n  (0, 4136)\\t2\\n  (0, 14998)\\t1\\n  (0, 969)\\t1\\n  (0, 24712)\\t2\\n  (0, 4867)\\t1\\n  (0, 3715)\\t2\\n  (0, 31627)\\t2\\n  (0, 1367)\\t1\\n  (0, 24864)\\t6\\n  (0, 22065)\\t5\\n  (0, 24865)\\t2\\n  (0, 8010)\\t1\\n  (0, 22067)\\t1\\n  (0, 24866)\\t4</td>\n",
       "    </tr>\n",
       "    <tr>\n",
       "      <th>3770</th>\n",
       "      <td>(0, 28426)\\t2\\n  (0, 8903)\\t2\\n  (0, 4066)\\t1\\n  (0, 29138)\\t1\\n  (0, 5664)\\t1\\n  (0, 27507)\\t1\\n  (0, 30238)\\t1\\n  (0, 11349)\\t1\\n  (0, 24341)\\t4\\n  (0, 11670)\\t1\\n  (0, 3625)\\t3\\n  (0, 29426)\\t1\\n  (0, 5155)\\t1\\n  (0, 11263)\\t1\\n  (0, 4197)\\t2\\n  (0, 13548)\\t1\\n  (0, 28315)\\t1\\n  (0, 29193)\\t1\\n  (0, 27858)\\t1\\n  (0, 15164)\\t6\\n  (0, 14055)\\t1\\n  (0, 5035)\\t1\\n  (0, 27605)\\t1\\n  (0, 902)\\t1\\n  (0, 6379)\\t1\\n  (0, 29570)\\t1\\n  (0, 1388)\\t2\\n  (0, 2720)\\t10\\n  (0, 10042)\\t11\\n  (0, 24650)\\t1\\n  (0, 10340)\\t1\\n  (0, 22549)\\t2\\n  (0, 4505)\\t6\\n  (0, 24078)\\t2\\n  (0, 24366)\\t1\\n  (0, 1008)\\t5\\n  (0, 6531)\\t1\\n  (0, 25364)\\t2\\n  (0, 26685)\\t18</td>\n",
       "    </tr>\n",
       "    <tr>\n",
       "      <th>3771</th>\n",
       "      <td>(0, 9266)\\t1\\n  (0, 29288)\\t1\\n  (0, 18488)\\t1\\n  (0, 5164)\\t1\\n  (0, 5664)\\t1\\n  (0, 8362)\\t1\\n  (0, 9239)\\t1\\n  (0, 7803)\\t1\\n  (0, 26370)\\t1\\n  (0, 18507)\\t2\\n  (0, 7748)\\t1\\n  (0, 17832)\\t1\\n  (0, 31858)\\t1\\n  (0, 6015)\\t1\\n  (0, 12113)\\t1\\n  (0, 27177)\\t1\\n  (0, 28338)\\t1\\n  (0, 8413)\\t1\\n  (0, 3979)\\t1\\n  (0, 29381)\\t1\\n  (0, 27300)\\t1\\n  (0, 15838)\\t1\\n  (0, 23299)\\t2\\n  (0, 12843)\\t1\\n  (0, 15251)\\t1\\n  :\\t:\\n  (0, 5143)\\t1\\n  (0, 26905)\\t1\\n  (0, 26904)\\t2\\n  (0, 288)\\t1\\n  (0, 12801)\\t2\\n  (0, 17947)\\t1\\n  (0, 5442)\\t1\\n  (0, 5646)\\t1\\n  (0, 28086)\\t1\\n  (0, 6152)\\t1\\n  (0, 8058)\\t1\\n  (0, 5142)\\t1\\n  (0, 1468)\\t1\\n  (0, 27768)\\t2\\n  (0, 8005)\\t2\\n  (0, 11888)\\t2\\n  (0, 3890)\\t1\\n  (0, 510)\\t1\\n  (0, 16932)\\t2\\n  (0, 10036)\\t2\\n  (0, 8008)\\t1\\n  (0, 421)\\t2\\n  (0, 1227)\\t3\\n  (0, 3253)\\t2\\n  (0, 17074)\\t1</td>\n",
       "    </tr>\n",
       "  </tbody>\n",
       "</table>\n",
       "<p>3772 rows × 1 columns</p>\n",
       "</div>"
      ],
      "text/plain": [
       "                                                                                                                                                                                                                                                                                                                                                                                                                                                                                                                                                                                                                                                                                                                                                                                                                                                                             0\n",
       "0       (0, 10592)\\t5\\n  (0, 10699)\\t6\\n  (0, 10591)\\t1\\n  (0, 10709)\\t2\\n  (0, 16999)\\t2\\n  (0, 9266)\\t1\\n  (0, 4842)\\t1\\n  (0, 4384)\\t6\\n  (0, 28218)\\t5\\n  (0, 17017)\\t7\\n  (0, 15824)\\t12\\n  (0, 28426)\\t14\\n  (0, 28653)\\t8\\n  (0, 30408)\\t13\\n  (0, 8903)\\t4\\n  (0, 4066)\\t1\\n  (0, 29288)\\t1\\n  (0, 25892)\\t1\\n  (0, 21767)\\t1\\n  (0, 29208)\\t1\\n  (0, 11918)\\t1\\n  (0, 10994)\\t1\\n  (0, 24589)\\t1\\n  (0, 18480)\\t1\\n  (0, 11532)\\t1\\n  (0, 21189)\\t1\\n  (0, 29675)\\t1\\n  (0, 31461)\\t1\\n  (0, 29138)\\t1\\n  (0, 19630)\\t1\\n  (0, 18899)\\t1\\n  (0, 20901)\\t1\\n  (0, 10710)\\t1\\n  (0, 21336)\\t1\\n  (0, 21320)\\t1\\n  (0, 16995)\\t1\\n  (0, 10593)\\t1                                                                                                                                                                                                                       \n",
       "1       (0, 28653)\\t1\\n  (0, 4066)\\t1\\n  (0, 29288)\\t2\\n  (0, 29138)\\t1\\n  (0, 3739)\\t3\\n  (0, 3432)\\t2\\n  (0, 7070)\\t3\\n  (0, 15118)\\t6\\n  (0, 15532)\\t7\\n  (0, 29584)\\t7\\n  (0, 18488)\\t3\\n  (0, 23644)\\t3\\n  (0, 5164)\\t1\\n  (0, 26668)\\t5\\n  (0, 3723)\\t4\\n  (0, 25149)\\t2\\n  (0, 29119)\\t1\\n  (0, 23321)\\t1\\n  (0, 11565)\\t1\\n  (0, 26441)\\t1\\n  (0, 21971)\\t1\\n  (0, 29075)\\t1\\n  (0, 8668)\\t1\\n  (0, 11862)\\t1\\n  (0, 24694)\\t1\\n  :\\t:\\n  (0, 20371)\\t1\\n  (0, 2861)\\t1\\n  (0, 17663)\\t1\\n  (0, 3740)\\t1\\n  (0, 18170)\\t1\\n  (0, 27293)\\t1\\n  (0, 22317)\\t1\\n  (0, 30972)\\t1\\n  (0, 26159)\\t1\\n  (0, 8948)\\t1\\n  (0, 5432)\\t1\\n  (0, 22046)\\t1\\n  (0, 11285)\\t1\\n  (0, 671)\\t1\\n  (0, 14500)\\t3\\n  (0, 15671)\\t1\\n  (0, 290)\\t1\\n  (0, 15815)\\t1\\n  (0, 26806)\\t1\\n  (0, 4894)\\t1\\n  (0, 23837)\\t1\\n  (0, 12282)\\t1\\n  (0, 28690)\\t1\\n  (0, 28069)\\t1\\n  (0, 31667)\\t1\n",
       "2       (0, 10994)\\t1\\n  (0, 31461)\\t1\\n  (0, 28690)\\t1\\n  (0, 25260)\\t3\\n  (0, 6973)\\t5\\n  (0, 24002)\\t4\\n  (0, 23943)\\t2\\n  (0, 14339)\\t1\\n  (0, 27449)\\t4\\n  (0, 25858)\\t2\\n  (0, 7803)\\t3\\n  (0, 26011)\\t1\\n  (0, 26370)\\t2\\n  (0, 4928)\\t1\\n  (0, 23540)\\t2\\n  (0, 28514)\\t1\\n  (0, 3861)\\t1\\n  (0, 411)\\t1\\n  (0, 29625)\\t1\\n  (0, 15600)\\t1\\n  (0, 26144)\\t1\\n  (0, 29018)\\t1\\n  (0, 29014)\\t1\\n  (0, 4237)\\t2\\n  (0, 6410)\\t1\\n  (0, 13346)\\t1\\n  (0, 5979)\\t1\\n  (0, 2015)\\t1\\n  (0, 31960)\\t1\\n  (0, 2154)\\t1\\n  (0, 16238)\\t1\\n  (0, 2144)\\t1\\n  (0, 16671)\\t1\\n  (0, 15791)\\t1\\n  (0, 30923)\\t1\\n  (0, 24818)\\t1\\n  (0, 31511)\\t1\\n  (0, 26197)\\t1\\n  (0, 26196)\\t1                                                                                                                                                                                               \n",
       "3       (0, 21320)\\t1\\n  (0, 28010)\\t1\\n  (0, 15505)\\t8\\n  (0, 4868)\\t2\\n  (0, 2758)\\t1\\n  (0, 18401)\\t1\\n  (0, 9538)\\t1\\n  (0, 28029)\\t1\\n  (0, 10974)\\t2\\n  (0, 30917)\\t3\\n  (0, 27782)\\t2\\n  (0, 4460)\\t1\\n  (0, 30100)\\t1\\n  (0, 22588)\\t1\\n  (0, 25212)\\t1\\n  (0, 7981)\\t1\\n  (0, 14444)\\t1\\n  (0, 16106)\\t1\\n  (0, 6934)\\t1\\n  (0, 24274)\\t1\\n  (0, 166)\\t1\\n  (0, 26633)\\t1\\n  (0, 29492)\\t2\\n  (0, 28715)\\t1\\n  (0, 12992)\\t1\\n  (0, 7985)\\t1\\n  (0, 18507)\\t1\\n  (0, 27507)\\t1\\n  (0, 29752)\\t1\\n  (0, 18812)\\t1\\n  (0, 21821)\\t1                                                                                                                                                                                                                                                                                                                                    \n",
       "4       (0, 9266)\\t1\\n  (0, 28653)\\t1\\n  (0, 15118)\\t2\\n  (0, 26668)\\t1\\n  (0, 23144)\\t1\\n  (0, 19797)\\t1\\n  (0, 5664)\\t2\\n  (0, 28010)\\t1\\n  (0, 9093)\\t1\\n  (0, 27293)\\t1\\n  (0, 28069)\\t2\\n  (0, 7366)\\t1\\n  (0, 7467)\\t1\\n  (0, 7472)\\t7\\n  (0, 7477)\\t1\\n  (0, 7706)\\t1\\n  (0, 7748)\\t1\\n  (0, 7818)\\t1\\n  (0, 15887)\\t3\\n  (0, 25348)\\t3\\n  (0, 1068)\\t1\\n  (0, 16367)\\t1\\n  (0, 22940)\\t1\\n  (0, 25742)\\t1\\n  (0, 29364)\\t2\\n  :\\t:\\n  (0, 25763)\\t1\\n  (0, 28080)\\t1\\n  (0, 24467)\\t1\\n  (0, 11479)\\t1\\n  (0, 15352)\\t1\\n  (0, 30965)\\t1\\n  (0, 9771)\\t1\\n  (0, 30966)\\t1\\n  (0, 4469)\\t1\\n  (0, 23722)\\t1\\n  (0, 7908)\\t1\\n  (0, 13847)\\t1\\n  (0, 22578)\\t2\\n  (0, 17533)\\t1\\n  (0, 8123)\\t1\\n  (0, 17120)\\t1\\n  (0, 18383)\\t1\\n  (0, 3004)\\t1\\n  (0, 14197)\\t1\\n  (0, 20193)\\t1\\n  (0, 30238)\\t1\\n  (0, 1909)\\t1\\n  (0, 18697)\\t1\\n  (0, 17553)\\t1\\n  (0, 8085)\\t1  \n",
       "...                                                                                                                                                                                                                                                                                                                                                                                                                                                                                                                                                                                                                                                                                                                                                                                                                                                                      ...  \n",
       "3767    (0, 7985)\\t1\\n  (0, 18507)\\t1\\n  (0, 29771)\\t1\\n  (0, 8265)\\t1\\n  (0, 6487)\\t1\\n  (0, 14161)\\t1\\n  (0, 4243)\\t1\\n  (0, 25572)\\t1\\n  (0, 6044)\\t1\\n  (0, 3942)\\t1\\n  (0, 26564)\\t1\\n  (0, 6278)\\t1\\n  (0, 7367)\\t2\\n  (0, 115)\\t1\\n  (0, 17370)\\t1\\n  (0, 6400)\\t1\\n  (0, 28600)\\t1                                                                                                                                                                                                                                                                                                                                                                                                                                                                                                                                                                                    \n",
       "3768    (0, 10994)\\t1\\n  (0, 18488)\\t1\\n  (0, 10393)\\t1\\n  (0, 30972)\\t1\\n  (0, 28690)\\t1\\n  (0, 7803)\\t1\\n  (0, 21821)\\t1\\n  (0, 7467)\\t2\\n  (0, 26321)\\t2\\n  (0, 21986)\\t1\\n  (0, 4887)\\t1\\n  (0, 4839)\\t1\\n  (0, 9392)\\t2\\n  (0, 8417)\\t1\\n  (0, 29734)\\t1\\n  (0, 27800)\\t1\\n  (0, 8594)\\t1\\n  (0, 23125)\\t1\\n  (0, 21173)\\t1\\n  (0, 2332)\\t1\\n  (0, 11495)\\t1\\n  (0, 11670)\\t1\\n  (0, 3539)\\t1\\n  (0, 23371)\\t1\\n  (0, 27791)\\t1\\n  :\\t:\\n  (0, 28525)\\t2\\n  (0, 6503)\\t2\\n  (0, 10582)\\t1\\n  (0, 6783)\\t1\\n  (0, 908)\\t1\\n  (0, 27019)\\t1\\n  (0, 23222)\\t1\\n  (0, 24947)\\t1\\n  (0, 8660)\\t1\\n  (0, 19785)\\t1\\n  (0, 22964)\\t1\\n  (0, 8406)\\t1\\n  (0, 26315)\\t1\\n  (0, 27006)\\t1\\n  (0, 23746)\\t1\\n  (0, 8004)\\t1\\n  (0, 31620)\\t1\\n  (0, 26529)\\t3\\n  (0, 7983)\\t1\\n  (0, 14134)\\t1\\n  (0, 9533)\\t1\\n  (0, 11857)\\t1\\n  (0, 17022)\\t1\\n  (0, 11858)\\t1\\n  (0, 30088)\\t1  \n",
       "3769    (0, 2015)\\t2\\n  (0, 21821)\\t2\\n  (0, 20234)\\t1\\n  (0, 9757)\\t5\\n  (0, 8364)\\t1\\n  (0, 27040)\\t1\\n  (0, 8009)\\t1\\n  (0, 18441)\\t1\\n  (0, 4136)\\t2\\n  (0, 14998)\\t1\\n  (0, 969)\\t1\\n  (0, 24712)\\t2\\n  (0, 4867)\\t1\\n  (0, 3715)\\t2\\n  (0, 31627)\\t2\\n  (0, 1367)\\t1\\n  (0, 24864)\\t6\\n  (0, 22065)\\t5\\n  (0, 24865)\\t2\\n  (0, 8010)\\t1\\n  (0, 22067)\\t1\\n  (0, 24866)\\t4                                                                                                                                                                                                                                                                                                                                                                                                                                                                                               \n",
       "3770    (0, 28426)\\t2\\n  (0, 8903)\\t2\\n  (0, 4066)\\t1\\n  (0, 29138)\\t1\\n  (0, 5664)\\t1\\n  (0, 27507)\\t1\\n  (0, 30238)\\t1\\n  (0, 11349)\\t1\\n  (0, 24341)\\t4\\n  (0, 11670)\\t1\\n  (0, 3625)\\t3\\n  (0, 29426)\\t1\\n  (0, 5155)\\t1\\n  (0, 11263)\\t1\\n  (0, 4197)\\t2\\n  (0, 13548)\\t1\\n  (0, 28315)\\t1\\n  (0, 29193)\\t1\\n  (0, 27858)\\t1\\n  (0, 15164)\\t6\\n  (0, 14055)\\t1\\n  (0, 5035)\\t1\\n  (0, 27605)\\t1\\n  (0, 902)\\t1\\n  (0, 6379)\\t1\\n  (0, 29570)\\t1\\n  (0, 1388)\\t2\\n  (0, 2720)\\t10\\n  (0, 10042)\\t11\\n  (0, 24650)\\t1\\n  (0, 10340)\\t1\\n  (0, 22549)\\t2\\n  (0, 4505)\\t6\\n  (0, 24078)\\t2\\n  (0, 24366)\\t1\\n  (0, 1008)\\t5\\n  (0, 6531)\\t1\\n  (0, 25364)\\t2\\n  (0, 26685)\\t18                                                                                                                                                                                               \n",
       "3771    (0, 9266)\\t1\\n  (0, 29288)\\t1\\n  (0, 18488)\\t1\\n  (0, 5164)\\t1\\n  (0, 5664)\\t1\\n  (0, 8362)\\t1\\n  (0, 9239)\\t1\\n  (0, 7803)\\t1\\n  (0, 26370)\\t1\\n  (0, 18507)\\t2\\n  (0, 7748)\\t1\\n  (0, 17832)\\t1\\n  (0, 31858)\\t1\\n  (0, 6015)\\t1\\n  (0, 12113)\\t1\\n  (0, 27177)\\t1\\n  (0, 28338)\\t1\\n  (0, 8413)\\t1\\n  (0, 3979)\\t1\\n  (0, 29381)\\t1\\n  (0, 27300)\\t1\\n  (0, 15838)\\t1\\n  (0, 23299)\\t2\\n  (0, 12843)\\t1\\n  (0, 15251)\\t1\\n  :\\t:\\n  (0, 5143)\\t1\\n  (0, 26905)\\t1\\n  (0, 26904)\\t2\\n  (0, 288)\\t1\\n  (0, 12801)\\t2\\n  (0, 17947)\\t1\\n  (0, 5442)\\t1\\n  (0, 5646)\\t1\\n  (0, 28086)\\t1\\n  (0, 6152)\\t1\\n  (0, 8058)\\t1\\n  (0, 5142)\\t1\\n  (0, 1468)\\t1\\n  (0, 27768)\\t2\\n  (0, 8005)\\t2\\n  (0, 11888)\\t2\\n  (0, 3890)\\t1\\n  (0, 510)\\t1\\n  (0, 16932)\\t2\\n  (0, 10036)\\t2\\n  (0, 8008)\\t1\\n  (0, 421)\\t2\\n  (0, 1227)\\t3\\n  (0, 3253)\\t2\\n  (0, 17074)\\t1            \n",
       "\n",
       "[3772 rows x 1 columns]"
      ]
     },
     "execution_count": 25,
     "metadata": {},
     "output_type": "execute_result"
    }
   ],
   "source": [
    "pd.DataFrame(X_train_bow)"
   ]
  },
  {
   "cell_type": "code",
   "execution_count": 26,
   "metadata": {},
   "outputs": [
    {
     "data": {
      "text/plain": [
       "RandomForestClassifier(random_state=0)"
      ]
     },
     "execution_count": 26,
     "metadata": {},
     "output_type": "execute_result"
    }
   ],
   "source": [
    "#cl = RandomForestClassifier(random_state = 0, n_estimators=1000)\n",
    "cl = RandomForestClassifier(random_state = 0)\n",
    "cl.fit(X_train_bow, y_train)"
   ]
  },
  {
   "cell_type": "code",
   "execution_count": 27,
   "metadata": {},
   "outputs": [
    {
     "data": {
      "text/plain": [
       "0.7977736549165121"
      ]
     },
     "execution_count": 27,
     "metadata": {},
     "output_type": "execute_result"
    }
   ],
   "source": [
    "cl.score(X_test_bow, y_test)"
   ]
  },
  {
   "cell_type": "code",
   "execution_count": 28,
   "metadata": {},
   "outputs": [],
   "source": [
    "y_pred = cl.predict(X_test_bow)"
   ]
  },
  {
   "cell_type": "code",
   "execution_count": 29,
   "metadata": {},
   "outputs": [
    {
     "name": "stdout",
     "output_type": "stream",
     "text": [
      "                      precision    recall  f1-score   support\n",
      "\n",
      "              Comedy       0.81      0.81      0.81       166\n",
      "       Entertainment       0.73      0.87      0.79       469\n",
      "       Howto & Style       0.83      0.80      0.81       185\n",
      "               Music       0.87      0.90      0.89       227\n",
      "     News & Politics       0.77      0.90      0.83       164\n",
      "      People & Blogs       0.79      0.42      0.55       151\n",
      "Science & Technology       0.91      0.57      0.70       129\n",
      "              Sports       0.90      0.87      0.88       126\n",
      "\n",
      "            accuracy                           0.80      1617\n",
      "           macro avg       0.83      0.77      0.78      1617\n",
      "        weighted avg       0.81      0.80      0.79      1617\n",
      "\n"
     ]
    }
   ],
   "source": [
    "print(classification_report(y_test,y_pred))"
   ]
  },
  {
   "cell_type": "markdown",
   "metadata": {},
   "source": [
    "### Verificando los resultados"
   ]
  },
  {
   "cell_type": "code",
   "execution_count": 30,
   "metadata": {},
   "outputs": [],
   "source": [
    "df_results = pd.DataFrame()\n",
    "df_results['y_true'] = y_test\n",
    "df_results['y_predict'] = y_pred"
   ]
  },
  {
   "cell_type": "code",
   "execution_count": 31,
   "metadata": {},
   "outputs": [
    {
     "data": {
      "text/html": [
       "<div>\n",
       "<style scoped>\n",
       "    .dataframe tbody tr th:only-of-type {\n",
       "        vertical-align: middle;\n",
       "    }\n",
       "\n",
       "    .dataframe tbody tr th {\n",
       "        vertical-align: top;\n",
       "    }\n",
       "\n",
       "    .dataframe thead th {\n",
       "        text-align: right;\n",
       "    }\n",
       "</style>\n",
       "<table border=\"1\" class=\"dataframe\">\n",
       "  <thead>\n",
       "    <tr style=\"text-align: right;\">\n",
       "      <th></th>\n",
       "      <th>y_true</th>\n",
       "    </tr>\n",
       "  </thead>\n",
       "  <tbody>\n",
       "    <tr>\n",
       "      <th>Entertainment</th>\n",
       "      <td>469</td>\n",
       "    </tr>\n",
       "    <tr>\n",
       "      <th>Music</th>\n",
       "      <td>227</td>\n",
       "    </tr>\n",
       "    <tr>\n",
       "      <th>Howto &amp; Style</th>\n",
       "      <td>185</td>\n",
       "    </tr>\n",
       "    <tr>\n",
       "      <th>Comedy</th>\n",
       "      <td>166</td>\n",
       "    </tr>\n",
       "    <tr>\n",
       "      <th>News &amp; Politics</th>\n",
       "      <td>164</td>\n",
       "    </tr>\n",
       "    <tr>\n",
       "      <th>People &amp; Blogs</th>\n",
       "      <td>151</td>\n",
       "    </tr>\n",
       "    <tr>\n",
       "      <th>Science &amp; Technology</th>\n",
       "      <td>129</td>\n",
       "    </tr>\n",
       "    <tr>\n",
       "      <th>Sports</th>\n",
       "      <td>126</td>\n",
       "    </tr>\n",
       "  </tbody>\n",
       "</table>\n",
       "</div>"
      ],
      "text/plain": [
       "                      y_true\n",
       "Entertainment         469   \n",
       "Music                 227   \n",
       "Howto & Style         185   \n",
       "Comedy                166   \n",
       "News & Politics       164   \n",
       "People & Blogs        151   \n",
       "Science & Technology  129   \n",
       "Sports                126   "
      ]
     },
     "metadata": {},
     "output_type": "display_data"
    },
    {
     "data": {
      "text/html": [
       "<div>\n",
       "<style scoped>\n",
       "    .dataframe tbody tr th:only-of-type {\n",
       "        vertical-align: middle;\n",
       "    }\n",
       "\n",
       "    .dataframe tbody tr th {\n",
       "        vertical-align: top;\n",
       "    }\n",
       "\n",
       "    .dataframe thead th {\n",
       "        text-align: right;\n",
       "    }\n",
       "</style>\n",
       "<table border=\"1\" class=\"dataframe\">\n",
       "  <thead>\n",
       "    <tr style=\"text-align: right;\">\n",
       "      <th></th>\n",
       "      <th>y_predict</th>\n",
       "    </tr>\n",
       "  </thead>\n",
       "  <tbody>\n",
       "    <tr>\n",
       "      <th>Entertainment</th>\n",
       "      <td>562</td>\n",
       "    </tr>\n",
       "    <tr>\n",
       "      <th>Music</th>\n",
       "      <td>235</td>\n",
       "    </tr>\n",
       "    <tr>\n",
       "      <th>News &amp; Politics</th>\n",
       "      <td>192</td>\n",
       "    </tr>\n",
       "    <tr>\n",
       "      <th>Howto &amp; Style</th>\n",
       "      <td>179</td>\n",
       "    </tr>\n",
       "    <tr>\n",
       "      <th>Comedy</th>\n",
       "      <td>167</td>\n",
       "    </tr>\n",
       "    <tr>\n",
       "      <th>Sports</th>\n",
       "      <td>121</td>\n",
       "    </tr>\n",
       "    <tr>\n",
       "      <th>Science &amp; Technology</th>\n",
       "      <td>81</td>\n",
       "    </tr>\n",
       "    <tr>\n",
       "      <th>People &amp; Blogs</th>\n",
       "      <td>80</td>\n",
       "    </tr>\n",
       "  </tbody>\n",
       "</table>\n",
       "</div>"
      ],
      "text/plain": [
       "                      y_predict\n",
       "Entertainment         562      \n",
       "Music                 235      \n",
       "News & Politics       192      \n",
       "Howto & Style         179      \n",
       "Comedy                167      \n",
       "Sports                121      \n",
       "Science & Technology  81       \n",
       "People & Blogs        80       "
      ]
     },
     "metadata": {},
     "output_type": "display_data"
    }
   ],
   "source": [
    "display(df_results['y_true'].value_counts().to_frame())\n",
    "display(df_results['y_predict'].value_counts().to_frame())"
   ]
  },
  {
   "cell_type": "code",
   "execution_count": 34,
   "metadata": {},
   "outputs": [
    {
     "data": {
      "image/png": "[encoded data removed]",
      "text/plain": [
       "<Figure size 432x288 with 1 Axes>"
      ]
     },
     "metadata": {
      "needs_background": "light"
     },
     "output_type": "display_data"
    },
    {
     "data": {
      "image/png": "[encoded data removed]",
      "text/plain": [
       "<Figure size 432x288 with 1 Axes>"
      ]
     },
     "metadata": {
      "needs_background": "light"
     },
     "output_type": "display_data"
    }
   ],
   "source": [
    "#fig, ax = plt.subplots(2,1, figsize=(8,12))\n",
    "plt.figure()\n",
    "sns.histplot(df_results, y='y_true')\n",
    "plt.yticks(ticks=np.arange(len(df_results['y_true'].unique())), \n",
    "                 labels=df_results['y_true'].unique())\n",
    "plt.title(\"Datos originales\")\n",
    "\n",
    "plt.figure()\n",
    "sns.histplot(df_results, y='y_predict')\n",
    "plt.yticks(np.arange(len(df_results['y_predict'].unique())), df_results['y_predict'].unique())\n",
    "plt.title(\"Datos predichos\");\n"
   ]
  },
  {
   "cell_type": "markdown",
   "metadata": {},
   "source": [
    "## Conclusiones\n",
    "\n",
    "* El modelo de bolsa de palabras muestra una alta eficiencia para optimizar nuestro modelo clasificador, a pesar de la bajar cantidad de registros por categorias\n",
    "* El estimador `RandomForestClassifier` demuestra una gran adaptacion a los datos, usando los parametros por defecto, implementando regularizacion, es posible mejorar el score obtenido de ***79%***"
   ]
  },
  {
   "cell_type": "code",
   "execution_count": null,
   "metadata": {},
   "outputs": [],
   "source": []
  }
 ],
 "metadata": {
  "interpreter": {
   "hash": "7eee29653e88b609714f9afda52040657fe2540735c19fa758d54683dd20314e"
  },
  "kernelspec": {
   "display_name": "Python 3.9.7 ('cookiecutter-project')",
   "language": "python",
   "name": "python3"
  },
  "language_info": {
   "codemirror_mode": {
    "name": "ipython",
    "version": 3
   },
   "file_extension": ".py",
   "mimetype": "text/x-python",
   "name": "python",
   "nbconvert_exporter": "python",
   "pygments_lexer": "ipython3",
   "version": "3.9.7"
  },
  "orig_nbformat": 4
 },
 "nbformat": 4,
 "nbformat_minor": 2
}
